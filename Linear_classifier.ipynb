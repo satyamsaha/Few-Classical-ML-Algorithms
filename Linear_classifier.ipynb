{
  "nbformat": 4,
  "nbformat_minor": 0,
  "metadata": {
    "colab": {
      "provenance": []
    },
    "kernelspec": {
      "name": "python3",
      "display_name": "Python 3"
    },
    "language_info": {
      "name": "python"
    }
  },
  "cells": [
    {
      "cell_type": "code",
      "execution_count": 1,
      "metadata": {
        "id": "1t5_k1BolMWL"
      },
      "outputs": [],
      "source": [
        "import pandas as pd\n",
        "import numpy as np\n"
      ]
    },
    {
      "cell_type": "code",
      "source": [
        "from google.colab import files\n",
        "uploaded = files.upload()"
      ],
      "metadata": {
        "colab": {
          "base_uri": "https://localhost:8080/",
          "height": 73
        },
        "id": "0n287dUxlOUI",
        "outputId": "80401578-1ff4-4807-aed6-538b1dc4e441"
      },
      "execution_count": 3,
      "outputs": [
        {
          "output_type": "display_data",
          "data": {
            "text/plain": [
              "<IPython.core.display.HTML object>"
            ],
            "text/html": [
              "\n",
              "     <input type=\"file\" id=\"files-68613fe2-428e-419d-a702-42df6e66f51e\" name=\"files[]\" multiple disabled\n",
              "        style=\"border:none\" />\n",
              "     <output id=\"result-68613fe2-428e-419d-a702-42df6e66f51e\">\n",
              "      Upload widget is only available when the cell has been executed in the\n",
              "      current browser session. Please rerun this cell to enable.\n",
              "      </output>\n",
              "      <script>// Copyright 2017 Google LLC\n",
              "//\n",
              "// Licensed under the Apache License, Version 2.0 (the \"License\");\n",
              "// you may not use this file except in compliance with the License.\n",
              "// You may obtain a copy of the License at\n",
              "//\n",
              "//      http://www.apache.org/licenses/LICENSE-2.0\n",
              "//\n",
              "// Unless required by applicable law or agreed to in writing, software\n",
              "// distributed under the License is distributed on an \"AS IS\" BASIS,\n",
              "// WITHOUT WARRANTIES OR CONDITIONS OF ANY KIND, either express or implied.\n",
              "// See the License for the specific language governing permissions and\n",
              "// limitations under the License.\n",
              "\n",
              "/**\n",
              " * @fileoverview Helpers for google.colab Python module.\n",
              " */\n",
              "(function(scope) {\n",
              "function span(text, styleAttributes = {}) {\n",
              "  const element = document.createElement('span');\n",
              "  element.textContent = text;\n",
              "  for (const key of Object.keys(styleAttributes)) {\n",
              "    element.style[key] = styleAttributes[key];\n",
              "  }\n",
              "  return element;\n",
              "}\n",
              "\n",
              "// Max number of bytes which will be uploaded at a time.\n",
              "const MAX_PAYLOAD_SIZE = 100 * 1024;\n",
              "\n",
              "function _uploadFiles(inputId, outputId) {\n",
              "  const steps = uploadFilesStep(inputId, outputId);\n",
              "  const outputElement = document.getElementById(outputId);\n",
              "  // Cache steps on the outputElement to make it available for the next call\n",
              "  // to uploadFilesContinue from Python.\n",
              "  outputElement.steps = steps;\n",
              "\n",
              "  return _uploadFilesContinue(outputId);\n",
              "}\n",
              "\n",
              "// This is roughly an async generator (not supported in the browser yet),\n",
              "// where there are multiple asynchronous steps and the Python side is going\n",
              "// to poll for completion of each step.\n",
              "// This uses a Promise to block the python side on completion of each step,\n",
              "// then passes the result of the previous step as the input to the next step.\n",
              "function _uploadFilesContinue(outputId) {\n",
              "  const outputElement = document.getElementById(outputId);\n",
              "  const steps = outputElement.steps;\n",
              "\n",
              "  const next = steps.next(outputElement.lastPromiseValue);\n",
              "  return Promise.resolve(next.value.promise).then((value) => {\n",
              "    // Cache the last promise value to make it available to the next\n",
              "    // step of the generator.\n",
              "    outputElement.lastPromiseValue = value;\n",
              "    return next.value.response;\n",
              "  });\n",
              "}\n",
              "\n",
              "/**\n",
              " * Generator function which is called between each async step of the upload\n",
              " * process.\n",
              " * @param {string} inputId Element ID of the input file picker element.\n",
              " * @param {string} outputId Element ID of the output display.\n",
              " * @return {!Iterable<!Object>} Iterable of next steps.\n",
              " */\n",
              "function* uploadFilesStep(inputId, outputId) {\n",
              "  const inputElement = document.getElementById(inputId);\n",
              "  inputElement.disabled = false;\n",
              "\n",
              "  const outputElement = document.getElementById(outputId);\n",
              "  outputElement.innerHTML = '';\n",
              "\n",
              "  const pickedPromise = new Promise((resolve) => {\n",
              "    inputElement.addEventListener('change', (e) => {\n",
              "      resolve(e.target.files);\n",
              "    });\n",
              "  });\n",
              "\n",
              "  const cancel = document.createElement('button');\n",
              "  inputElement.parentElement.appendChild(cancel);\n",
              "  cancel.textContent = 'Cancel upload';\n",
              "  const cancelPromise = new Promise((resolve) => {\n",
              "    cancel.onclick = () => {\n",
              "      resolve(null);\n",
              "    };\n",
              "  });\n",
              "\n",
              "  // Wait for the user to pick the files.\n",
              "  const files = yield {\n",
              "    promise: Promise.race([pickedPromise, cancelPromise]),\n",
              "    response: {\n",
              "      action: 'starting',\n",
              "    }\n",
              "  };\n",
              "\n",
              "  cancel.remove();\n",
              "\n",
              "  // Disable the input element since further picks are not allowed.\n",
              "  inputElement.disabled = true;\n",
              "\n",
              "  if (!files) {\n",
              "    return {\n",
              "      response: {\n",
              "        action: 'complete',\n",
              "      }\n",
              "    };\n",
              "  }\n",
              "\n",
              "  for (const file of files) {\n",
              "    const li = document.createElement('li');\n",
              "    li.append(span(file.name, {fontWeight: 'bold'}));\n",
              "    li.append(span(\n",
              "        `(${file.type || 'n/a'}) - ${file.size} bytes, ` +\n",
              "        `last modified: ${\n",
              "            file.lastModifiedDate ? file.lastModifiedDate.toLocaleDateString() :\n",
              "                                    'n/a'} - `));\n",
              "    const percent = span('0% done');\n",
              "    li.appendChild(percent);\n",
              "\n",
              "    outputElement.appendChild(li);\n",
              "\n",
              "    const fileDataPromise = new Promise((resolve) => {\n",
              "      const reader = new FileReader();\n",
              "      reader.onload = (e) => {\n",
              "        resolve(e.target.result);\n",
              "      };\n",
              "      reader.readAsArrayBuffer(file);\n",
              "    });\n",
              "    // Wait for the data to be ready.\n",
              "    let fileData = yield {\n",
              "      promise: fileDataPromise,\n",
              "      response: {\n",
              "        action: 'continue',\n",
              "      }\n",
              "    };\n",
              "\n",
              "    // Use a chunked sending to avoid message size limits. See b/62115660.\n",
              "    let position = 0;\n",
              "    do {\n",
              "      const length = Math.min(fileData.byteLength - position, MAX_PAYLOAD_SIZE);\n",
              "      const chunk = new Uint8Array(fileData, position, length);\n",
              "      position += length;\n",
              "\n",
              "      const base64 = btoa(String.fromCharCode.apply(null, chunk));\n",
              "      yield {\n",
              "        response: {\n",
              "          action: 'append',\n",
              "          file: file.name,\n",
              "          data: base64,\n",
              "        },\n",
              "      };\n",
              "\n",
              "      let percentDone = fileData.byteLength === 0 ?\n",
              "          100 :\n",
              "          Math.round((position / fileData.byteLength) * 100);\n",
              "      percent.textContent = `${percentDone}% done`;\n",
              "\n",
              "    } while (position < fileData.byteLength);\n",
              "  }\n",
              "\n",
              "  // All done.\n",
              "  yield {\n",
              "    response: {\n",
              "      action: 'complete',\n",
              "    }\n",
              "  };\n",
              "}\n",
              "\n",
              "scope.google = scope.google || {};\n",
              "scope.google.colab = scope.google.colab || {};\n",
              "scope.google.colab._files = {\n",
              "  _uploadFiles,\n",
              "  _uploadFilesContinue,\n",
              "};\n",
              "})(self);\n",
              "</script> "
            ]
          },
          "metadata": {}
        },
        {
          "output_type": "stream",
          "name": "stdout",
          "text": [
            "Saving p3_train.csv to p3_train.csv\n"
          ]
        }
      ]
    },
    {
      "cell_type": "code",
      "source": [
        "# Get the uploaded file name\n",
        "file_name = next(iter(uploaded))\n",
        "\n",
        "# Load the CSV file using NumPy\n",
        "data_train = np.genfromtxt(file_name, delimiter=',')"
      ],
      "metadata": {
        "id": "Ih9BO_3Il5xS"
      },
      "execution_count": 30,
      "outputs": []
    },
    {
      "cell_type": "code",
      "source": [
        "data_train"
      ],
      "metadata": {
        "colab": {
          "base_uri": "https://localhost:8080/"
        },
        "id": "ocVuZH25v0uY",
        "outputId": "1433489c-cec6-473f-b2d2-9c113b8a01b3"
      },
      "execution_count": 31,
      "outputs": [
        {
          "output_type": "execute_result",
          "data": {
            "text/plain": [
              "array([[-0.66524016, -1.44494482, -0.50279241, ..., -0.51264941,\n",
              "         1.14855255,  1.        ],\n",
              "       [ 2.77439505,  1.60670577,  0.55340908, ..., -0.3560387 ,\n",
              "         0.67794381,  1.        ],\n",
              "       [-0.62586937, -0.26507389,  0.70141731, ...,  0.10409147,\n",
              "        -0.98485438,  5.        ],\n",
              "       ...,\n",
              "       [-1.7652821 , -0.13820513, -2.05887396, ..., -0.16761556,\n",
              "         1.92810659,  5.        ],\n",
              "       [ 1.31672603,  0.29958778,  0.40964062, ..., -0.50250074,\n",
              "        -0.77139579,  2.        ],\n",
              "       [ 0.41895968,  1.06039492, -1.1435325 , ...,  1.16254537,\n",
              "         0.12443366,  4.        ]])"
            ]
          },
          "metadata": {},
          "execution_count": 31
        }
      ]
    },
    {
      "cell_type": "code",
      "source": [
        "n1=0\n",
        "n2=0\n",
        "n3=0\n",
        "n4=0\n",
        "n5=0\n",
        "for i in range(0,60000):\n",
        "  if data_train[i][10]==1:\n",
        "    n1=n1+1\n",
        "  if data_train[i][10]==2:\n",
        "    n2=n2+1\n",
        "  if data_train[i][10]==3:\n",
        "    n3=n3+1\n",
        "  if data_train[i][10]==4:\n",
        "    n4=n4+1\n",
        "  if data_train[i][10]==5:\n",
        "    n5=n5+1"
      ],
      "metadata": {
        "id": "3EamFfHnlRTp"
      },
      "execution_count": 32,
      "outputs": []
    },
    {
      "cell_type": "code",
      "source": [
        "X_train=data_train[:,0:10]\n",
        "y_train=data_train[:,-1]"
      ],
      "metadata": {
        "id": "gtLbsBqH1f1h"
      },
      "execution_count": 33,
      "outputs": []
    },
    {
      "cell_type": "code",
      "source": [
        "X_train"
      ],
      "metadata": {
        "colab": {
          "base_uri": "https://localhost:8080/"
        },
        "id": "ykqJq-OUBZu6",
        "outputId": "b9003af4-6282-4e03-9096-e407e589262d"
      },
      "execution_count": 34,
      "outputs": [
        {
          "output_type": "execute_result",
          "data": {
            "text/plain": [
              "array([[-0.66524016, -1.44494482, -0.50279241, ..., -0.43669382,\n",
              "        -0.51264941,  1.14855255],\n",
              "       [ 2.77439505,  1.60670577,  0.55340908, ...,  1.85333769,\n",
              "        -0.3560387 ,  0.67794381],\n",
              "       [-0.62586937, -0.26507389,  0.70141731, ...,  1.2385759 ,\n",
              "         0.10409147, -0.98485438],\n",
              "       ...,\n",
              "       [-1.7652821 , -0.13820513, -2.05887396, ...,  0.28859359,\n",
              "        -0.16761556,  1.92810659],\n",
              "       [ 1.31672603,  0.29958778,  0.40964062, ...,  0.25653821,\n",
              "        -0.50250074, -0.77139579],\n",
              "       [ 0.41895968,  1.06039492, -1.1435325 , ...,  3.01004262,\n",
              "         1.16254537,  0.12443366]])"
            ]
          },
          "metadata": {},
          "execution_count": 34
        }
      ]
    },
    {
      "cell_type": "code",
      "source": [
        "y_train"
      ],
      "metadata": {
        "colab": {
          "base_uri": "https://localhost:8080/"
        },
        "id": "4tmWE5bo1nRZ",
        "outputId": "75ca950a-e145-46c6-b5fc-2ee378c724ab"
      },
      "execution_count": 10,
      "outputs": [
        {
          "output_type": "execute_result",
          "data": {
            "text/plain": [
              "array([1., 1., 5., ..., 5., 2., 4.])"
            ]
          },
          "metadata": {},
          "execution_count": 10
        }
      ]
    },
    {
      "cell_type": "code",
      "source": [
        "def max_min(data,m,n):\n",
        "  max=np.zeros((10,1))\n",
        "  min=np.zeros((10,1))\n",
        "  for i in range(0,n-1):\n",
        "    max[i]=np.max(data[:,i])\n",
        "    min[i]=np.min(data[:,i])\n",
        "  return max,min\n",
        "\n"
      ],
      "metadata": {
        "id": "i6DJl7S1zVJY"
      },
      "execution_count": 35,
      "outputs": []
    },
    {
      "cell_type": "code",
      "source": [
        "def normalize(data,m,n):\n",
        "  max,min=max_min(data,m,n)\n",
        "  data_normalized=data\n",
        "  for i in range(0,m):\n",
        "    for j in range(0,n-1):\n",
        "      data_normalized[i][j]=(data[i][j]-min[j])/(max[j]-min[j])\n",
        "  return data_normalized\n"
      ],
      "metadata": {
        "id": "DZd284xa0pOM"
      },
      "execution_count": 36,
      "outputs": []
    },
    {
      "cell_type": "code",
      "source": [
        "def vrest1(data,size):\n",
        "  mat1=np.copy(data)\n",
        "  for i in range(0,size):\n",
        "    if mat1[i][10]!=1:\n",
        "      mat1[i][10]=-1\n",
        "  return mat1\n",
        "\n",
        "def vrest2(data,size):\n",
        "  mat2=np.copy(data)\n",
        "  for i in range(0,size):\n",
        "    if mat2[i][10]==2:\n",
        "      mat2[i][10]=1\n",
        "    else:\n",
        "      mat2[i][10]=-1\n",
        "  return mat2"
      ],
      "metadata": {
        "id": "IoVgM-BYl74s"
      },
      "execution_count": 28,
      "outputs": []
    },
    {
      "cell_type": "code",
      "source": [
        "def vrest3(data,size):\n",
        "  mat3=np.copy(data)\n",
        "  for i in range(0,size):\n",
        "    if mat3[i][10]==3:\n",
        "      mat3[i][10]=1\n",
        "    else:\n",
        "      mat3[i][10]=-1\n",
        "  return mat3\n",
        "\n",
        "def vrest4(data,size):\n",
        "  mat4=np.copy(data)\n",
        "  for i in range(0,size):\n",
        "    if mat4[i][10]==4:\n",
        "      mat4[i][10]=1\n",
        "    else:\n",
        "      mat4[i][10]=-1\n",
        "  return mat4\n",
        "\n",
        "def vrest5(data,size):\n",
        "  mat5=np.copy(data)\n",
        "  for i in range(0,size):\n",
        "    if mat5[i][10]==5:\n",
        "      mat5[i][10]=1\n",
        "    else:\n",
        "      mat5[i][10]=-1\n",
        "  return mat5"
      ],
      "metadata": {
        "id": "53-B_1YsxI8w"
      },
      "execution_count": 29,
      "outputs": []
    },
    {
      "cell_type": "code",
      "source": [
        "X_train_Norm=normalize(data_train,60000,11)"
      ],
      "metadata": {
        "id": "Q4oIalqJzOpK"
      },
      "execution_count": 15,
      "outputs": []
    },
    {
      "cell_type": "code",
      "source": [
        "X_train_Norm"
      ],
      "metadata": {
        "colab": {
          "base_uri": "https://localhost:8080/"
        },
        "id": "2N6M0MNS2XVT",
        "outputId": "8bba01cc-4c02-4b85-d0fc-735e25c26e51"
      },
      "execution_count": null,
      "outputs": [
        {
          "output_type": "execute_result",
          "data": {
            "text/plain": [
              "array([[0.41561724, 0.25532628, 0.44478438, ..., 0.4218294 , 0.51466103,\n",
              "        1.        ],\n",
              "       [0.72591991, 0.52263612, 0.54157416, ..., 0.43654057, 0.47812012,\n",
              "        1.        ],\n",
              "       [0.41916903, 0.35867727, 0.55513756, ..., 0.47976271, 0.34901041,\n",
              "        5.        ],\n",
              "       ...,\n",
              "       [0.31637825, 0.36979036, 0.30218585, ..., 0.45424002, 0.57519033,\n",
              "        5.        ],\n",
              "       [0.594418  , 0.4081389 , 0.52839929, ..., 0.42278271, 0.36558462,\n",
              "        2.        ],\n",
              "       [0.51342706, 0.47478193, 0.38606728, ..., 0.57918815, 0.43514224,\n",
              "        4.        ]])"
            ]
          },
          "metadata": {},
          "execution_count": 86
        }
      ]
    },
    {
      "cell_type": "code",
      "source": [
        "data_train"
      ],
      "metadata": {
        "id": "u-VMiZDE2qXh",
        "colab": {
          "base_uri": "https://localhost:8080/"
        },
        "outputId": "5c443876-b85e-4c2b-9c3b-d1f1f139eacb"
      },
      "execution_count": 41,
      "outputs": [
        {
          "output_type": "execute_result",
          "data": {
            "text/plain": [
              "array([[-0.66524016, -1.44494482, -0.50279241, ..., -0.51264941,\n",
              "         1.14855255,  1.        ],\n",
              "       [ 2.77439505,  1.60670577,  0.55340908, ..., -0.3560387 ,\n",
              "         0.67794381,  1.        ],\n",
              "       [-0.62586937, -0.26507389,  0.70141731, ...,  0.10409147,\n",
              "        -0.98485438,  5.        ],\n",
              "       ...,\n",
              "       [-1.7652821 , -0.13820513, -2.05887396, ..., -0.16761556,\n",
              "         1.92810659,  5.        ],\n",
              "       [ 1.31672603,  0.29958778,  0.40964062, ..., -0.50250074,\n",
              "        -0.77139579,  2.        ],\n",
              "       [ 0.41895968,  1.06039492, -1.1435325 , ...,  1.16254537,\n",
              "         0.12443366,  4.        ]])"
            ]
          },
          "metadata": {},
          "execution_count": 41
        }
      ]
    },
    {
      "cell_type": "code",
      "source": [
        "mat1=vrest1(data_train,60000)"
      ],
      "metadata": {
        "id": "9Ov_d84iDAZL"
      },
      "execution_count": 38,
      "outputs": []
    },
    {
      "cell_type": "code",
      "source": [
        "mat1"
      ],
      "metadata": {
        "colab": {
          "base_uri": "https://localhost:8080/"
        },
        "id": "Hy8hG2L-42rN",
        "outputId": "f1e82d7e-e87f-4df1-b30c-0746653bf063"
      },
      "execution_count": 39,
      "outputs": [
        {
          "output_type": "execute_result",
          "data": {
            "text/plain": [
              "array([[-0.66524016, -1.44494482, -0.50279241, ..., -0.51264941,\n",
              "         1.14855255,  1.        ],\n",
              "       [ 2.77439505,  1.60670577,  0.55340908, ..., -0.3560387 ,\n",
              "         0.67794381,  1.        ],\n",
              "       [-0.62586937, -0.26507389,  0.70141731, ...,  0.10409147,\n",
              "        -0.98485438, -1.        ],\n",
              "       ...,\n",
              "       [-1.7652821 , -0.13820513, -2.05887396, ..., -0.16761556,\n",
              "         1.92810659, -1.        ],\n",
              "       [ 1.31672603,  0.29958778,  0.40964062, ..., -0.50250074,\n",
              "        -0.77139579, -1.        ],\n",
              "       [ 0.41895968,  1.06039492, -1.1435325 , ...,  1.16254537,\n",
              "         0.12443366, -1.        ]])"
            ]
          },
          "metadata": {},
          "execution_count": 39
        }
      ]
    },
    {
      "cell_type": "code",
      "source": [
        "mat2=vrest2(data_train,60000)\n",
        "mat3=vrest3(data_train,60000)\n",
        "mat4=vrest4(data_train,60000)\n",
        "mat5=vrest5(data_train,60000)"
      ],
      "metadata": {
        "id": "T3XBW3ON3-d2"
      },
      "execution_count": 43,
      "outputs": []
    },
    {
      "cell_type": "code",
      "source": [
        "np.shape(mat3)"
      ],
      "metadata": {
        "colab": {
          "base_uri": "https://localhost:8080/"
        },
        "id": "b12EYWB15vo0",
        "outputId": "b2a4c780-d763-46b2-fa18-a6275647e39c"
      },
      "execution_count": 45,
      "outputs": [
        {
          "output_type": "execute_result",
          "data": {
            "text/plain": [
              "(60000, 11)"
            ]
          },
          "metadata": {},
          "execution_count": 45
        }
      ]
    },
    {
      "cell_type": "code",
      "source": [
        "mat5"
      ],
      "metadata": {
        "colab": {
          "base_uri": "https://localhost:8080/"
        },
        "id": "_rNSvw48EmYR",
        "outputId": "bf0c5109-7571-469c-9570-206e5d848147"
      },
      "execution_count": 48,
      "outputs": [
        {
          "output_type": "execute_result",
          "data": {
            "text/plain": [
              "array([[-0.66524016, -1.44494482, -0.50279241, ..., -0.51264941,\n",
              "         1.14855255, -1.        ],\n",
              "       [ 2.77439505,  1.60670577,  0.55340908, ..., -0.3560387 ,\n",
              "         0.67794381, -1.        ],\n",
              "       [-0.62586937, -0.26507389,  0.70141731, ...,  0.10409147,\n",
              "        -0.98485438,  1.        ],\n",
              "       ...,\n",
              "       [-1.7652821 , -0.13820513, -2.05887396, ..., -0.16761556,\n",
              "         1.92810659,  1.        ],\n",
              "       [ 1.31672603,  0.29958778,  0.40964062, ..., -0.50250074,\n",
              "        -0.77139579, -1.        ],\n",
              "       [ 0.41895968,  1.06039492, -1.1435325 , ...,  1.16254537,\n",
              "         0.12443366, -1.        ]])"
            ]
          },
          "metadata": {},
          "execution_count": 48
        }
      ]
    },
    {
      "cell_type": "code",
      "source": [
        "a=np.ones((60000,1))"
      ],
      "metadata": {
        "id": "c4OYR91B3_YA"
      },
      "execution_count": 51,
      "outputs": []
    },
    {
      "cell_type": "code",
      "source": [
        "\n",
        "mat_cls1=np.concatenate((a,mat1),axis=1)\n",
        "mat_cls2=np.concatenate((a,mat2),axis=1)\n",
        "mat_cls3=np.concatenate((a,mat3),axis=1)\n",
        "mat_cls4=np.concatenate((a,mat4),axis=1)\n",
        "mat_cls5=np.concatenate((a,mat5),axis=1)"
      ],
      "metadata": {
        "id": "bIhAx2Ft4f9l"
      },
      "execution_count": 62,
      "outputs": []
    },
    {
      "cell_type": "code",
      "source": [
        "\n",
        "np.shape((mat_cls1))"
      ],
      "metadata": {
        "colab": {
          "base_uri": "https://localhost:8080/"
        },
        "id": "oQe5nDJj4uaC",
        "outputId": "0c97b409-b1bd-488c-c22f-3c6250066efa"
      },
      "execution_count": 53,
      "outputs": [
        {
          "output_type": "execute_result",
          "data": {
            "text/plain": [
              "(60000, 12)"
            ]
          },
          "metadata": {},
          "execution_count": 53
        }
      ]
    },
    {
      "cell_type": "code",
      "source": [
        "mat_cls1"
      ],
      "metadata": {
        "colab": {
          "base_uri": "https://localhost:8080/"
        },
        "id": "9-O_ZqUX4wLE",
        "outputId": "6d337cfb-4e77-4989-b228-5efc0d7f4333"
      },
      "execution_count": 54,
      "outputs": [
        {
          "output_type": "execute_result",
          "data": {
            "text/plain": [
              "array([[ 1.        , -0.66524016, -1.44494482, ..., -0.51264941,\n",
              "         1.14855255,  1.        ],\n",
              "       [ 1.        ,  2.77439505,  1.60670577, ..., -0.3560387 ,\n",
              "         0.67794381,  1.        ],\n",
              "       [ 1.        , -0.62586937, -0.26507389, ...,  0.10409147,\n",
              "        -0.98485438, -1.        ],\n",
              "       ...,\n",
              "       [ 1.        , -1.7652821 , -0.13820513, ..., -0.16761556,\n",
              "         1.92810659, -1.        ],\n",
              "       [ 1.        ,  1.31672603,  0.29958778, ..., -0.50250074,\n",
              "        -0.77139579, -1.        ],\n",
              "       [ 1.        ,  0.41895968,  1.06039492, ...,  1.16254537,\n",
              "         0.12443366, -1.        ]])"
            ]
          },
          "metadata": {},
          "execution_count": 54
        }
      ]
    },
    {
      "cell_type": "code",
      "source": [
        "X_train1=mat_cls1[:,0:11]\n",
        "y_train1=mat_cls1[:,-1]\n"
      ],
      "metadata": {
        "id": "jAqq5YHo5Yhd"
      },
      "execution_count": 60,
      "outputs": []
    },
    {
      "cell_type": "code",
      "source": [
        "X_train1"
      ],
      "metadata": {
        "colab": {
          "base_uri": "https://localhost:8080/"
        },
        "id": "wAVyhge7F2e2",
        "outputId": "01afa3c4-a5c2-426f-c9f2-f137fa03fe4a"
      },
      "execution_count": 58,
      "outputs": [
        {
          "output_type": "execute_result",
          "data": {
            "text/plain": [
              "array([[ 1.        , -0.66524016, -1.44494482, ..., -0.43669382,\n",
              "        -0.51264941,  1.14855255],\n",
              "       [ 1.        ,  2.77439505,  1.60670577, ...,  1.85333769,\n",
              "        -0.3560387 ,  0.67794381],\n",
              "       [ 1.        , -0.62586937, -0.26507389, ...,  1.2385759 ,\n",
              "         0.10409147, -0.98485438],\n",
              "       ...,\n",
              "       [ 1.        , -1.7652821 , -0.13820513, ...,  0.28859359,\n",
              "        -0.16761556,  1.92810659],\n",
              "       [ 1.        ,  1.31672603,  0.29958778, ...,  0.25653821,\n",
              "        -0.50250074, -0.77139579],\n",
              "       [ 1.        ,  0.41895968,  1.06039492, ...,  3.01004262,\n",
              "         1.16254537,  0.12443366]])"
            ]
          },
          "metadata": {},
          "execution_count": 58
        }
      ]
    },
    {
      "cell_type": "code",
      "source": [
        "y_train1"
      ],
      "metadata": {
        "colab": {
          "base_uri": "https://localhost:8080/"
        },
        "id": "qO-JOh-jF49b",
        "outputId": "a9981112-2f99-4d56-e198-cecd14812ab4"
      },
      "execution_count": 61,
      "outputs": [
        {
          "output_type": "execute_result",
          "data": {
            "text/plain": [
              "array([ 1.,  1., -1., ..., -1., -1., -1.])"
            ]
          },
          "metadata": {},
          "execution_count": 61
        }
      ]
    },
    {
      "cell_type": "code",
      "source": [
        "X_train2=mat_cls2[:,0:11]\n",
        "y_train2=mat_cls2[:,-1]\n",
        "X_train3=mat_cls3[:,0:11]\n",
        "y_train3=mat_cls3[:,-1]\n",
        "X_train4=mat_cls4[:,0:11]\n",
        "y_train4=mat_cls4[:,-1]\n",
        "X_train5=mat_cls5[:,0:11]\n",
        "y_train5=mat_cls5[:,-1]\n",
        "\n"
      ],
      "metadata": {
        "id": "PylCRSKrGEuX"
      },
      "execution_count": 64,
      "outputs": []
    },
    {
      "cell_type": "code",
      "source": [
        "def w_star(A,y_train):\n",
        "  W_star=np.zeros((11,1))\n",
        "  W_star=(np.linalg.inv((A.T)@A))@(A.T)@y_train\n",
        "  return W_star\n",
        "\n"
      ],
      "metadata": {
        "id": "QFXUKUhwGhA-"
      },
      "execution_count": 69,
      "outputs": []
    },
    {
      "cell_type": "code",
      "source": [
        "W_star1=w_star(X_train1,y_train1)\n",
        "W_star2=w_star(X_train2,y_train2)\n",
        "W_star3=w_star(X_train3,y_train3)\n",
        "W_star4=w_star(X_train4,y_train4)\n",
        "W_star5=w_star(X_train5,y_train5)"
      ],
      "metadata": {
        "id": "Hk_rIEjbHsSx"
      },
      "execution_count": 70,
      "outputs": []
    },
    {
      "cell_type": "code",
      "source": [
        "W_star1"
      ],
      "metadata": {
        "colab": {
          "base_uri": "https://localhost:8080/"
        },
        "id": "c42HfYrlIIFA",
        "outputId": "603daa02-d7c0-4412-8402-fe7e86f649ab"
      },
      "execution_count": 83,
      "outputs": [
        {
          "output_type": "execute_result",
          "data": {
            "text/plain": [
              "array([-0.56922004, -0.00058638,  0.21874155, -0.00557447, -0.06570336,\n",
              "       -0.01649415, -0.06783803, -0.00890344, -0.06398231, -0.01049051,\n",
              "       -0.06298499])"
            ]
          },
          "metadata": {},
          "execution_count": 83
        }
      ]
    },
    {
      "cell_type": "code",
      "source": [
        "np.shape(W_star1)"
      ],
      "metadata": {
        "colab": {
          "base_uri": "https://localhost:8080/"
        },
        "id": "Vwy84uS6IKuu",
        "outputId": "e81f05af-5b42-4f1d-9e22-f7c404d773fe"
      },
      "execution_count": 72,
      "outputs": [
        {
          "output_type": "execute_result",
          "data": {
            "text/plain": [
              "(11,)"
            ]
          },
          "metadata": {},
          "execution_count": 72
        }
      ]
    },
    {
      "cell_type": "code",
      "source": [
        "uploaded1 = files.upload()"
      ],
      "metadata": {
        "colab": {
          "base_uri": "https://localhost:8080/",
          "height": 73
        },
        "id": "BPVnmj-4IOqJ",
        "outputId": "2a5bf268-70d5-4d44-d59c-16398936aa9e"
      },
      "execution_count": 73,
      "outputs": [
        {
          "output_type": "display_data",
          "data": {
            "text/plain": [
              "<IPython.core.display.HTML object>"
            ],
            "text/html": [
              "\n",
              "     <input type=\"file\" id=\"files-ecf5663d-9236-440e-8d0a-9ca344ed92a7\" name=\"files[]\" multiple disabled\n",
              "        style=\"border:none\" />\n",
              "     <output id=\"result-ecf5663d-9236-440e-8d0a-9ca344ed92a7\">\n",
              "      Upload widget is only available when the cell has been executed in the\n",
              "      current browser session. Please rerun this cell to enable.\n",
              "      </output>\n",
              "      <script>// Copyright 2017 Google LLC\n",
              "//\n",
              "// Licensed under the Apache License, Version 2.0 (the \"License\");\n",
              "// you may not use this file except in compliance with the License.\n",
              "// You may obtain a copy of the License at\n",
              "//\n",
              "//      http://www.apache.org/licenses/LICENSE-2.0\n",
              "//\n",
              "// Unless required by applicable law or agreed to in writing, software\n",
              "// distributed under the License is distributed on an \"AS IS\" BASIS,\n",
              "// WITHOUT WARRANTIES OR CONDITIONS OF ANY KIND, either express or implied.\n",
              "// See the License for the specific language governing permissions and\n",
              "// limitations under the License.\n",
              "\n",
              "/**\n",
              " * @fileoverview Helpers for google.colab Python module.\n",
              " */\n",
              "(function(scope) {\n",
              "function span(text, styleAttributes = {}) {\n",
              "  const element = document.createElement('span');\n",
              "  element.textContent = text;\n",
              "  for (const key of Object.keys(styleAttributes)) {\n",
              "    element.style[key] = styleAttributes[key];\n",
              "  }\n",
              "  return element;\n",
              "}\n",
              "\n",
              "// Max number of bytes which will be uploaded at a time.\n",
              "const MAX_PAYLOAD_SIZE = 100 * 1024;\n",
              "\n",
              "function _uploadFiles(inputId, outputId) {\n",
              "  const steps = uploadFilesStep(inputId, outputId);\n",
              "  const outputElement = document.getElementById(outputId);\n",
              "  // Cache steps on the outputElement to make it available for the next call\n",
              "  // to uploadFilesContinue from Python.\n",
              "  outputElement.steps = steps;\n",
              "\n",
              "  return _uploadFilesContinue(outputId);\n",
              "}\n",
              "\n",
              "// This is roughly an async generator (not supported in the browser yet),\n",
              "// where there are multiple asynchronous steps and the Python side is going\n",
              "// to poll for completion of each step.\n",
              "// This uses a Promise to block the python side on completion of each step,\n",
              "// then passes the result of the previous step as the input to the next step.\n",
              "function _uploadFilesContinue(outputId) {\n",
              "  const outputElement = document.getElementById(outputId);\n",
              "  const steps = outputElement.steps;\n",
              "\n",
              "  const next = steps.next(outputElement.lastPromiseValue);\n",
              "  return Promise.resolve(next.value.promise).then((value) => {\n",
              "    // Cache the last promise value to make it available to the next\n",
              "    // step of the generator.\n",
              "    outputElement.lastPromiseValue = value;\n",
              "    return next.value.response;\n",
              "  });\n",
              "}\n",
              "\n",
              "/**\n",
              " * Generator function which is called between each async step of the upload\n",
              " * process.\n",
              " * @param {string} inputId Element ID of the input file picker element.\n",
              " * @param {string} outputId Element ID of the output display.\n",
              " * @return {!Iterable<!Object>} Iterable of next steps.\n",
              " */\n",
              "function* uploadFilesStep(inputId, outputId) {\n",
              "  const inputElement = document.getElementById(inputId);\n",
              "  inputElement.disabled = false;\n",
              "\n",
              "  const outputElement = document.getElementById(outputId);\n",
              "  outputElement.innerHTML = '';\n",
              "\n",
              "  const pickedPromise = new Promise((resolve) => {\n",
              "    inputElement.addEventListener('change', (e) => {\n",
              "      resolve(e.target.files);\n",
              "    });\n",
              "  });\n",
              "\n",
              "  const cancel = document.createElement('button');\n",
              "  inputElement.parentElement.appendChild(cancel);\n",
              "  cancel.textContent = 'Cancel upload';\n",
              "  const cancelPromise = new Promise((resolve) => {\n",
              "    cancel.onclick = () => {\n",
              "      resolve(null);\n",
              "    };\n",
              "  });\n",
              "\n",
              "  // Wait for the user to pick the files.\n",
              "  const files = yield {\n",
              "    promise: Promise.race([pickedPromise, cancelPromise]),\n",
              "    response: {\n",
              "      action: 'starting',\n",
              "    }\n",
              "  };\n",
              "\n",
              "  cancel.remove();\n",
              "\n",
              "  // Disable the input element since further picks are not allowed.\n",
              "  inputElement.disabled = true;\n",
              "\n",
              "  if (!files) {\n",
              "    return {\n",
              "      response: {\n",
              "        action: 'complete',\n",
              "      }\n",
              "    };\n",
              "  }\n",
              "\n",
              "  for (const file of files) {\n",
              "    const li = document.createElement('li');\n",
              "    li.append(span(file.name, {fontWeight: 'bold'}));\n",
              "    li.append(span(\n",
              "        `(${file.type || 'n/a'}) - ${file.size} bytes, ` +\n",
              "        `last modified: ${\n",
              "            file.lastModifiedDate ? file.lastModifiedDate.toLocaleDateString() :\n",
              "                                    'n/a'} - `));\n",
              "    const percent = span('0% done');\n",
              "    li.appendChild(percent);\n",
              "\n",
              "    outputElement.appendChild(li);\n",
              "\n",
              "    const fileDataPromise = new Promise((resolve) => {\n",
              "      const reader = new FileReader();\n",
              "      reader.onload = (e) => {\n",
              "        resolve(e.target.result);\n",
              "      };\n",
              "      reader.readAsArrayBuffer(file);\n",
              "    });\n",
              "    // Wait for the data to be ready.\n",
              "    let fileData = yield {\n",
              "      promise: fileDataPromise,\n",
              "      response: {\n",
              "        action: 'continue',\n",
              "      }\n",
              "    };\n",
              "\n",
              "    // Use a chunked sending to avoid message size limits. See b/62115660.\n",
              "    let position = 0;\n",
              "    do {\n",
              "      const length = Math.min(fileData.byteLength - position, MAX_PAYLOAD_SIZE);\n",
              "      const chunk = new Uint8Array(fileData, position, length);\n",
              "      position += length;\n",
              "\n",
              "      const base64 = btoa(String.fromCharCode.apply(null, chunk));\n",
              "      yield {\n",
              "        response: {\n",
              "          action: 'append',\n",
              "          file: file.name,\n",
              "          data: base64,\n",
              "        },\n",
              "      };\n",
              "\n",
              "      let percentDone = fileData.byteLength === 0 ?\n",
              "          100 :\n",
              "          Math.round((position / fileData.byteLength) * 100);\n",
              "      percent.textContent = `${percentDone}% done`;\n",
              "\n",
              "    } while (position < fileData.byteLength);\n",
              "  }\n",
              "\n",
              "  // All done.\n",
              "  yield {\n",
              "    response: {\n",
              "      action: 'complete',\n",
              "    }\n",
              "  };\n",
              "}\n",
              "\n",
              "scope.google = scope.google || {};\n",
              "scope.google.colab = scope.google.colab || {};\n",
              "scope.google.colab._files = {\n",
              "  _uploadFiles,\n",
              "  _uploadFilesContinue,\n",
              "};\n",
              "})(self);\n",
              "</script> "
            ]
          },
          "metadata": {}
        },
        {
          "output_type": "stream",
          "name": "stdout",
          "text": [
            "Saving p3_test.csv to p3_test.csv\n"
          ]
        }
      ]
    },
    {
      "cell_type": "code",
      "source": [
        "# Get the uploaded file name\n",
        "file_name1 = next(iter(uploaded1))\n",
        "\n",
        "# Load the CSV file using NumPy\n",
        "data_test = np.genfromtxt(file_name1, delimiter=',')"
      ],
      "metadata": {
        "id": "hbPuK6KcIkZo"
      },
      "execution_count": 74,
      "outputs": []
    },
    {
      "cell_type": "code",
      "source": [
        "a=np.ones((15000,1))\n",
        "mat=np.concatenate((a,data_test),axis=1)"
      ],
      "metadata": {
        "id": "PFjSwClnI41X"
      },
      "execution_count": 75,
      "outputs": []
    },
    {
      "cell_type": "code",
      "source": [
        "X_test=mat[:,0:11]\n",
        "y_test=mat[:,-1]"
      ],
      "metadata": {
        "id": "srjEWwbFJt9Y"
      },
      "execution_count": 76,
      "outputs": []
    },
    {
      "cell_type": "code",
      "source": [
        "W_star1=np.reshape(W_star1,(11,1))\n",
        "W_star2=np.reshape(W_star2,(11,1))\n",
        "W_star3=np.reshape(W_star3,(11,1))\n",
        "W_star4=np.reshape(W_star4,(11,1))\n",
        "W_star5=np.reshape(W_star5,(11,1))\n"
      ],
      "metadata": {
        "id": "NyrYY07NKCHH"
      },
      "execution_count": 94,
      "outputs": []
    },
    {
      "cell_type": "code",
      "source": [
        "np.shape(W_star1)"
      ],
      "metadata": {
        "colab": {
          "base_uri": "https://localhost:8080/"
        },
        "id": "ZhBLI6_tKDd0",
        "outputId": "5203b3bc-e79c-4d11-a26f-f91b67584a6a"
      },
      "execution_count": 93,
      "outputs": [
        {
          "output_type": "execute_result",
          "data": {
            "text/plain": [
              "(11, 1)"
            ]
          },
          "metadata": {},
          "execution_count": 93
        }
      ]
    },
    {
      "cell_type": "code",
      "source": [
        "mat1=X_test@W_star1\n",
        "mat2=X_test@W_star2\n",
        "mat3=X_test@W_star3\n",
        "mat4=X_test@W_star4\n",
        "mat5=X_test@W_star5\n",
        "M=np.concatenate((mat1,mat2,mat3,mat4,mat5),axis=1)\n",
        "y=np.zeros((15000,1))\n",
        "for i in range(0,15000):\n",
        "  y[i]=(np.argmax(M[i]))+1\n",
        "\n",
        "\n",
        "\n"
      ],
      "metadata": {
        "id": "PAADOiWKKFEs"
      },
      "execution_count": 99,
      "outputs": []
    },
    {
      "cell_type": "code",
      "source": [
        "np.shape(y)"
      ],
      "metadata": {
        "colab": {
          "base_uri": "https://localhost:8080/"
        },
        "id": "LPY62SRFMhTA",
        "outputId": "5a4c5326-d2c1-4105-cf64-29232a3735d4"
      },
      "execution_count": 97,
      "outputs": [
        {
          "output_type": "execute_result",
          "data": {
            "text/plain": [
              "(15000, 1)"
            ]
          },
          "metadata": {},
          "execution_count": 97
        }
      ]
    },
    {
      "cell_type": "code",
      "source": [
        "sum=0\n",
        "for i in range(0,15000):\n",
        "  if y[i]-y_test[i]==0:\n",
        "    sum=sum+1"
      ],
      "metadata": {
        "id": "T6OXW8esMqXj"
      },
      "execution_count": 100,
      "outputs": []
    },
    {
      "cell_type": "code",
      "source": [
        "accuracy=sum/15000"
      ],
      "metadata": {
        "id": "ADZjx4vdPBzi"
      },
      "execution_count": 101,
      "outputs": []
    },
    {
      "cell_type": "code",
      "source": [
        "accuracy"
      ],
      "metadata": {
        "colab": {
          "base_uri": "https://localhost:8080/"
        },
        "id": "Re_UcnlVPFqv",
        "outputId": "ef11a9e1-e8ab-4107-b9b1-132c7315bf08"
      },
      "execution_count": 102,
      "outputs": [
        {
          "output_type": "execute_result",
          "data": {
            "text/plain": [
              "0.5708"
            ]
          },
          "metadata": {},
          "execution_count": 102
        }
      ]
    },
    {
      "cell_type": "code",
      "source": [],
      "metadata": {
        "id": "AUkWTMw3PHNz"
      },
      "execution_count": null,
      "outputs": []
    }
  ]
}