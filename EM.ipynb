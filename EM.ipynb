{
 "cells": [
  {
   "cell_type": "code",
   "execution_count": 71,
   "metadata": {
    "id": "IWxyIy8ddYX6"
   },
   "outputs": [],
   "source": [
    "import numpy as np\n",
    "from google.colab import files"
   ]
  },
  {
   "cell_type": "code",
   "execution_count": null,
   "metadata": {
    "colab": {
     "base_uri": "https://localhost:8080/",
     "height": 55
    },
    "id": "hvTbXiJBdnnC",
    "outputId": "735cd932-4b7a-47d7-e026-a00925f85ebb"
   },
   "outputs": [
    {
     "data": {
      "text/html": [
       "\n",
       "     <input type=\"file\" id=\"files-47b47d62-93b2-4616-a9a7-ad5b54e39956\" name=\"files[]\" multiple disabled\n",
       "        style=\"border:none\" />\n",
       "     <output id=\"result-47b47d62-93b2-4616-a9a7-ad5b54e39956\">\n",
       "      Upload widget is only available when the cell has been executed in the\n",
       "      current browser session. Please rerun this cell to enable.\n",
       "      </output>\n",
       "      <script>// Copyright 2017 Google LLC\n",
       "//\n",
       "// Licensed under the Apache License, Version 2.0 (the \"License\");\n",
       "// you may not use this file except in compliance with the License.\n",
       "// You may obtain a copy of the License at\n",
       "//\n",
       "//      http://www.apache.org/licenses/LICENSE-2.0\n",
       "//\n",
       "// Unless required by applicable law or agreed to in writing, software\n",
       "// distributed under the License is distributed on an \"AS IS\" BASIS,\n",
       "// WITHOUT WARRANTIES OR CONDITIONS OF ANY KIND, either express or implied.\n",
       "// See the License for the specific language governing permissions and\n",
       "// limitations under the License.\n",
       "\n",
       "/**\n",
       " * @fileoverview Helpers for google.colab Python module.\n",
       " */\n",
       "(function(scope) {\n",
       "function span(text, styleAttributes = {}) {\n",
       "  const element = document.createElement('span');\n",
       "  element.textContent = text;\n",
       "  for (const key of Object.keys(styleAttributes)) {\n",
       "    element.style[key] = styleAttributes[key];\n",
       "  }\n",
       "  return element;\n",
       "}\n",
       "\n",
       "// Max number of bytes which will be uploaded at a time.\n",
       "const MAX_PAYLOAD_SIZE = 100 * 1024;\n",
       "\n",
       "function _uploadFiles(inputId, outputId) {\n",
       "  const steps = uploadFilesStep(inputId, outputId);\n",
       "  const outputElement = document.getElementById(outputId);\n",
       "  // Cache steps on the outputElement to make it available for the next call\n",
       "  // to uploadFilesContinue from Python.\n",
       "  outputElement.steps = steps;\n",
       "\n",
       "  return _uploadFilesContinue(outputId);\n",
       "}\n",
       "\n",
       "// This is roughly an async generator (not supported in the browser yet),\n",
       "// where there are multiple asynchronous steps and the Python side is going\n",
       "// to poll for completion of each step.\n",
       "// This uses a Promise to block the python side on completion of each step,\n",
       "// then passes the result of the previous step as the input to the next step.\n",
       "function _uploadFilesContinue(outputId) {\n",
       "  const outputElement = document.getElementById(outputId);\n",
       "  const steps = outputElement.steps;\n",
       "\n",
       "  const next = steps.next(outputElement.lastPromiseValue);\n",
       "  return Promise.resolve(next.value.promise).then((value) => {\n",
       "    // Cache the last promise value to make it available to the next\n",
       "    // step of the generator.\n",
       "    outputElement.lastPromiseValue = value;\n",
       "    return next.value.response;\n",
       "  });\n",
       "}\n",
       "\n",
       "/**\n",
       " * Generator function which is called between each async step of the upload\n",
       " * process.\n",
       " * @param {string} inputId Element ID of the input file picker element.\n",
       " * @param {string} outputId Element ID of the output display.\n",
       " * @return {!Iterable<!Object>} Iterable of next steps.\n",
       " */\n",
       "function* uploadFilesStep(inputId, outputId) {\n",
       "  const inputElement = document.getElementById(inputId);\n",
       "  inputElement.disabled = false;\n",
       "\n",
       "  const outputElement = document.getElementById(outputId);\n",
       "  outputElement.innerHTML = '';\n",
       "\n",
       "  const pickedPromise = new Promise((resolve) => {\n",
       "    inputElement.addEventListener('change', (e) => {\n",
       "      resolve(e.target.files);\n",
       "    });\n",
       "  });\n",
       "\n",
       "  const cancel = document.createElement('button');\n",
       "  inputElement.parentElement.appendChild(cancel);\n",
       "  cancel.textContent = 'Cancel upload';\n",
       "  const cancelPromise = new Promise((resolve) => {\n",
       "    cancel.onclick = () => {\n",
       "      resolve(null);\n",
       "    };\n",
       "  });\n",
       "\n",
       "  // Wait for the user to pick the files.\n",
       "  const files = yield {\n",
       "    promise: Promise.race([pickedPromise, cancelPromise]),\n",
       "    response: {\n",
       "      action: 'starting',\n",
       "    }\n",
       "  };\n",
       "\n",
       "  cancel.remove();\n",
       "\n",
       "  // Disable the input element since further picks are not allowed.\n",
       "  inputElement.disabled = true;\n",
       "\n",
       "  if (!files) {\n",
       "    return {\n",
       "      response: {\n",
       "        action: 'complete',\n",
       "      }\n",
       "    };\n",
       "  }\n",
       "\n",
       "  for (const file of files) {\n",
       "    const li = document.createElement('li');\n",
       "    li.append(span(file.name, {fontWeight: 'bold'}));\n",
       "    li.append(span(\n",
       "        `(${file.type || 'n/a'}) - ${file.size} bytes, ` +\n",
       "        `last modified: ${\n",
       "            file.lastModifiedDate ? file.lastModifiedDate.toLocaleDateString() :\n",
       "                                    'n/a'} - `));\n",
       "    const percent = span('0% done');\n",
       "    li.appendChild(percent);\n",
       "\n",
       "    outputElement.appendChild(li);\n",
       "\n",
       "    const fileDataPromise = new Promise((resolve) => {\n",
       "      const reader = new FileReader();\n",
       "      reader.onload = (e) => {\n",
       "        resolve(e.target.result);\n",
       "      };\n",
       "      reader.readAsArrayBuffer(file);\n",
       "    });\n",
       "    // Wait for the data to be ready.\n",
       "    let fileData = yield {\n",
       "      promise: fileDataPromise,\n",
       "      response: {\n",
       "        action: 'continue',\n",
       "      }\n",
       "    };\n",
       "\n",
       "    // Use a chunked sending to avoid message size limits. See b/62115660.\n",
       "    let position = 0;\n",
       "    do {\n",
       "      const length = Math.min(fileData.byteLength - position, MAX_PAYLOAD_SIZE);\n",
       "      const chunk = new Uint8Array(fileData, position, length);\n",
       "      position += length;\n",
       "\n",
       "      const base64 = btoa(String.fromCharCode.apply(null, chunk));\n",
       "      yield {\n",
       "        response: {\n",
       "          action: 'append',\n",
       "          file: file.name,\n",
       "          data: base64,\n",
       "        },\n",
       "      };\n",
       "\n",
       "      let percentDone = fileData.byteLength === 0 ?\n",
       "          100 :\n",
       "          Math.round((position / fileData.byteLength) * 100);\n",
       "      percent.textContent = `${percentDone}% done`;\n",
       "\n",
       "    } while (position < fileData.byteLength);\n",
       "  }\n",
       "\n",
       "  // All done.\n",
       "  yield {\n",
       "    response: {\n",
       "      action: 'complete',\n",
       "    }\n",
       "  };\n",
       "}\n",
       "\n",
       "scope.google = scope.google || {};\n",
       "scope.google.colab = scope.google.colab || {};\n",
       "scope.google.colab._files = {\n",
       "  _uploadFiles,\n",
       "  _uploadFilesContinue,\n",
       "};\n",
       "})(self);\n",
       "</script> "
      ],
      "text/plain": [
       "<IPython.core.display.HTML object>"
      ]
     },
     "metadata": {},
     "output_type": "display_data"
    }
   ],
   "source": [
    "uploaded = files.upload()"
   ]
  },
  {
   "cell_type": "code",
   "execution_count": null,
   "metadata": {
    "id": "8FlJbxxwdqlQ"
   },
   "outputs": [],
   "source": [
    "# Get the uploaded file name\n",
    "file_name = next(iter(uploaded))\n",
    "\n",
    "# Load the CSV file using NumPy\n",
    "data_train = np.genfromtxt(file_name, delimiter=',')"
   ]
  },
  {
   "cell_type": "code",
   "execution_count": null,
   "metadata": {
    "id": "B-kdrOBNdvxd"
   },
   "outputs": [],
   "source": [
    "n1=0\n",
    "n2=0\n",
    "n3=0\n",
    "n4=0\n",
    "n5=0\n",
    "for i in range(0,60000):\n",
    "  if data_train[i][10]==1:\n",
    "    n1=n1+1\n",
    "  if data_train[i][10]==2:\n",
    "    n2=n2+1\n",
    "  if data_train[i][10]==3:\n",
    "    n3=n3+1\n",
    "  if data_train[i][10]==4:\n",
    "    n4=n4+1\n",
    "  if data_train[i][10]==5:\n",
    "    n5=n5+1"
   ]
  },
  {
   "cell_type": "code",
   "execution_count": null,
   "metadata": {
    "id": "D4AKhlfQ2XW3"
   },
   "outputs": [],
   "source": [
    "p1=n1/60000\n",
    "p2=n2/60000\n",
    "p3=n3/60000\n",
    "p4=n4/60000\n",
    "p5=n5/60000"
   ]
  },
  {
   "cell_type": "code",
   "execution_count": null,
   "metadata": {
    "id": "9FF8zdjQ0OJo"
   },
   "outputs": [],
   "source": [
    "import math"
   ]
  },
  {
   "cell_type": "code",
   "execution_count": null,
   "metadata": {
    "id": "-ZX4saCOz55H"
   },
   "outputs": [],
   "source": [
    "def density(mu,sigma,x):\n",
    "  # e=-.5(((x-mu)/sigma)**2)\n",
    "  # exp_value=math.exp(e)\n",
    "  # val=(math.sqrt(2*math.pi))*sigma\n",
    "  diff=np.zeros((10,1))\n",
    "  for i in range(0,10):\n",
    "    diff[i]=x[i]-mu[i]\n",
    "  e=-0.5*((diff.T)@(np.linalg.inv(sigma))@diff)\n",
    "  evalue=math.exp(e)\n",
    "  #value=1/(((2*(math.pi))**5)*math.sqrt(np.linalg.det(sigma)))\n",
    "  det=math.sqrt(np.linalg.det(sigma))\n",
    "  value=(2*math.pi)**5\n",
    "  return evalue/(det*value)\n"
   ]
  },
  {
   "cell_type": "code",
   "execution_count": null,
   "metadata": {
    "id": "OdKKQJP8gO04"
   },
   "outputs": [],
   "source": [
    "def gamma1_calculator(xi,mu1,mu2,sigma1,sigma2,lambda1,lambda2):\n",
    "  val1=lambda1*density(mu1,sigma1,xi)\n",
    "  val2=lambda2*density(mu2,sigma2,xi)\n",
    "\n",
    "  return val1/(val1+val2)\n",
    "\n",
    "\n",
    "def gamma2_calculator(xi,mu1,mu2,sigma1,sigma2,lambda1,lambda2):\n",
    "  val1=lambda1*density(mu1,sigma1,xi)\n",
    "  val2=lambda2*density(mu2,sigma2,xi)\n",
    "\n",
    "  return val2/(val1+val2)\n",
    "\n",
    "\n",
    "\n"
   ]
  },
  {
   "cell_type": "code",
   "execution_count": null,
   "metadata": {
    "id": "jLoN7oO4eStQ"
   },
   "outputs": [],
   "source": [
    "def mu1_calculator(data,size,mu1,sigma1,mu2,sigma2,lambda1,lambda2,mu1_prev,mu2_prev,sigma1_prev,sigma2_prev,lambda1_prev,lambda2_prev):\n",
    "  mu1=np.zeros((10,1))\n",
    "  sum1=0\n",
    "  gamma_i=0\n",
    "  for i in range(0,size):\n",
    "    sum1=sum1+gamma1_calculator(data[i],mu1_prev,mu2_prev,sigma1_prev,sigma2_prev,lambda1_prev,lambda2_prev)\n",
    "    gamma_i=gamma1_calculator(data[i],mu1_prev,mu2_prev,sigma1_prev,sigma2_prev,lambda1_prev,lambda2_prev)\n",
    "    for j in range(0,10):\n",
    "      mu1[j]=mu1[j]+gamma_i*data[i][j]\n",
    "    gamma_i=0\n",
    "\n",
    "  return mu1/sum1\n",
    "\n",
    "\n",
    "def mu2_calculator(data,size,mu1,sigma1,mu2,sigma2,lambda1,lambda2,mu1_prev,mu2_prev,sigma1_prev,sigma2_prev,lambda1_prev,lambda2_prev):\n",
    "  mu2=np.zeros((10,1))\n",
    "  sum2=0\n",
    "  gamma_i=0\n",
    "  for i in range(0,size):\n",
    "    sum2=sum2+gamma2_calculator(data[i],mu1_prev,mu2_prev,sigma1_prev,sigma2_prev,lambda1_prev,lambda2_prev)\n",
    "    gamma_i=gamma2_calculator(data[i],mu1_prev,mu2_prev,sigma1_prev,sigma2_prev,lambda1_prev,lambda2_prev)\n",
    "    for j in range(0,10):\n",
    "      mu2[j]=mu2[j]+gamma_i*data[i][j]\n",
    "    gamma_i=0\n",
    "\n",
    "  return mu2/sum2"
   ]
  },
  {
   "cell_type": "code",
   "execution_count": null,
   "metadata": {
    "id": "caRC_vXGeTp6"
   },
   "outputs": [],
   "source": [
    "def lambda1_calculator(arr,size,mu1,sigma1,mu2,sigma2,lambda1,lambda2,mu1_prev,mu2_prev,sigma1_prev,sigma2_prev,lambda1_prev,lambda2_prev):\n",
    "  sum=0\n",
    "  for i in range(0,size):\n",
    "    sum=sum+gamma1_calculator(arr[i],mu1_prev,mu2_prev,sigma1_prev,sigma2_prev,lambda1_prev,lambda2_prev)\n",
    "\n",
    "  return sum/size\n",
    "\n",
    "def lambda2_calculator(arr,size,mu1,sigma1,mu2,sigma2,lambda1,lambda2,mu1_prev,mu2_prev,sigma1_prev,sigma2_prev,lambda1_prev,lambda2_prev):\n",
    "  sum=0\n",
    "  for i in range(0,size):\n",
    "    sum=sum+gamma2_calculator(arr[i],mu1_prev,mu2_prev,sigma1_prev,sigma2_prev,lambda1_prev,lambda2_prev)\n",
    "\n",
    "  return sum/size"
   ]
  },
  {
   "cell_type": "code",
   "execution_count": null,
   "metadata": {
    "id": "HE0zpaUredZ3"
   },
   "outputs": [],
   "source": [
    "def sgma1_calculator(data,size,mu1,sigma1,mu2,sigma2,lambda1,lambda2,mu1_prev,mu2_prev,sigma1_prev,sigma2_prev,lambda1_prev,lambda2_prev):\n",
    "  sigma1=np.zeros((10,10))\n",
    "  diff=np.zeros((10,1))\n",
    "  sum1=0\n",
    "  for i in range(0,size):\n",
    "    sum1=sum1+gamma1_calculator(data[i],mu1_prev,mu2_prev,sigma1_prev,sigma2_prev,lambda1_prev,lambda2_prev)\n",
    "    gamma_i=gamma1_calculator(data[i],mu1_prev,mu2_prev,sigma1_prev,sigma2_prev,lambda1_prev,lambda2_prev)\n",
    "    for j in range(0,10):\n",
    "      diff[j]=(data[i][j]-mu1[j])\n",
    "    sigma1=sigma1+gamma_i*(diff@(diff.T))\n",
    "    diff=np.zeros((10,1))\n",
    "\n",
    "  return sigma1/sum1\n",
    "\n",
    "\n",
    "def sgma2_calculator(data,size,mu1,sigma1,mu2,sigma2,lambda1,lambda2,mu1_prev,mu2_prev,sigma1_prev,sigma2_prev,lambda1_prev,lambda2_prev):\n",
    "  sigma2=np.zeros((10,10))\n",
    "  diff=np.zeros((10,1))\n",
    "  sum2=0\n",
    "  for i in range(0,size):\n",
    "    sum2=sum2+gamma2_calculator(data[i],mu1_prev,mu2_prev,sigma1_prev,sigma2_prev,lambda1_prev,lambda2_prev)\n",
    "    gamma_i=gamma2_calculator(data[i],mu1_prev,mu2_prev,sigma1_prev,sigma2_prev,lambda1_prev,lambda2_prev)\n",
    "    for j in range(0,10):\n",
    "      diff[j]=(data[i][j]-mu2[j])\n",
    "    sigma2=sigma2+gamma_i*(diff@(diff.T))\n",
    "    diff=np.zeros((10,1))\n",
    "\n",
    "  return sigma2/sum2\n"
   ]
  },
  {
   "cell_type": "code",
   "execution_count": null,
   "metadata": {
    "id": "b4Q-kmh2goeS"
   },
   "outputs": [],
   "source": [
    "mu1_prev=np.zeros((10,1))\n",
    "mu2_prev=np.zeros((10,1))\n",
    "mu1=np.ones((10,1))\n",
    "mu2=np.ones((10,1))\n",
    "sigma1_prev= np.identity(10, dtype=\"float\")\n",
    "sigma2_prev= np.identity(10, dtype=\"float\")\n",
    "sigma1= 2*np.identity(10, dtype=\"float\")\n",
    "sigma2= 2*np.identity(10, dtype=\"float\")\n",
    "lambda1_prev=1\n",
    "lambda2_prev=1\n",
    "lambda1=2\n",
    "lambda2=2\n",
    "\n",
    "mu1_error=np.linalg.norm((mu1-mu1_prev))\n",
    "mu2_error=np.linalg.norm((mu2-mu2_prev))\n",
    "sigma1_error=np.linalg.norm((sigma1-sigma1_prev))\n",
    "sigma2_error=np.linalg.norm((sigma2-sigma2_prev))\n",
    "lambda1_error=abs(lambda1-lambda1_prev)\n",
    "lambda2_error=abs(lambda2-lambda2_prev)\n",
    "\n",
    "\n"
   ]
  },
  {
   "cell_type": "code",
   "execution_count": null,
   "metadata": {
    "id": "tqBOsENxVSpD"
   },
   "outputs": [],
   "source": [
    "x1=np.zeros((n1,10))\n",
    "x2=np.zeros((n2,10))\n",
    "x3=np.zeros((n3,10))\n",
    "x4=np.zeros((n4,10))\n",
    "x5=np.zeros((n5,10))"
   ]
  },
  {
   "cell_type": "code",
   "execution_count": null,
   "metadata": {
    "id": "-wUoywzYVHvL"
   },
   "outputs": [],
   "source": [
    "k1=0\n",
    "k2=0\n",
    "k3=0\n",
    "k4=0\n",
    "k5=0\n",
    "\n",
    "\n",
    "for i in range(0,60000):\n",
    "    if data_train[i][10]==1:\n",
    "      for j in range(0,10):\n",
    "        x1[k1][j]=data_train[i][j]\n",
    "      k1=k1+1\n",
    "    elif data_train[i][10]==2:\n",
    "      for j in range(0,10):\n",
    "        x2[k2][j]=data_train[i][j]\n",
    "      k2=k2+1\n",
    "    elif data_train[i][10]==3:\n",
    "      for j in range(0,10):\n",
    "        x3[k3][j]=data_train[i][j]\n",
    "      k3=k3+1\n",
    "    elif data_train[i][10]==4:\n",
    "      for j in range(0,10):\n",
    "        x4[k4][j]=data_train[i][j]\n",
    "      k4=k4+1\n",
    "    elif data_train[i][10]==5:\n",
    "      for j in range(0,10):\n",
    "        x5[k5][j]=data_train[i][j]\n",
    "      k5=k5+1"
   ]
  },
  {
   "cell_type": "code",
   "execution_count": null,
   "metadata": {
    "id": "Y8w4lSbrKmJ2"
   },
   "outputs": [],
   "source": [
    "def class_cond_dens(xi,mu1,mu2,sigma1,sigma2,lambda1,lambda2):\n",
    "  value=lambda1*density(mu1,sigma1,xi)+lambda2*density(mu2,sigma2,xi)\n",
    "  return value"
   ]
  },
  {
   "cell_type": "code",
   "execution_count": null,
   "metadata": {
    "id": "udaGTpjhKy_H"
   },
   "outputs": [],
   "source": [
    "# prob0=0.5*np.zeros((60000,1))\n",
    "# prob1=0.6*np.zeros((60000,1))"
   ]
  },
  {
   "cell_type": "code",
   "execution_count": null,
   "metadata": {
    "id": "PUH7cs7kr3cc"
   },
   "outputs": [],
   "source": [
    "# gamma1=np.ones((60000,1))\n",
    "# gamma2=np.ones((60000,1))\n",
    "\n",
    "def ccd_calculator(data,size,mu1,sigma1,mu2,sigma2,lambda1,lambda2,mu1_prev,mu2_prev,sigma1_prev,sigma2_prev,lambda1_prev,lambda2_prev):\n",
    "  prob0=0.5*np.zeros((size,1))\n",
    "  prob1=0.6*np.zeros((size,1))\n",
    "\n",
    " # while mu1_error>=0.1 and mu2_error>=0.1 and sigma1_error>=0.1 and sigma2_error >= 0.1 and lambda1_error >= 0.1 and lambda2_error >= 0.1:\n",
    "  MAE=0.1\n",
    "  while MAE>=0.005:\n",
    "    value1=np.zeros((10,1))\n",
    "    value2=np.zeros((10,1))\n",
    "    t1=0\n",
    "    t2=0\n",
    "    s1=np.zeros((10,10))\n",
    "    s2=np.zeros((10,10))\n",
    "    value1=mu1_calculator(data,size,mu1,sigma1,mu2,sigma2,lambda1,lambda2,mu1_prev,mu2_prev,sigma1_prev,sigma2_prev,lambda1_prev,lambda2_prev)\n",
    "    value2=mu2_calculator(data,size,mu1,sigma1,mu2,sigma2,lambda1,lambda2,mu1_prev,mu2_prev,sigma1_prev,sigma2_prev,lambda1_prev,lambda2_prev)\n",
    "    t1=lambda1_calculator(data,size,mu1,sigma1,mu2,sigma2,lambda1,lambda2,mu1_prev,mu2_prev,sigma1_prev,sigma2_prev,lambda1_prev,lambda2_prev)\n",
    "    t2=lambda2_calculator(data,size,mu1,sigma1,mu2,sigma2,lambda1,lambda2,mu1_prev,mu2_prev,sigma1_prev,sigma2_prev,lambda1_prev,lambda2_prev)\n",
    "    s1=sgma1_calculator(data,size,mu1,sigma1,mu2,sigma2,lambda1,lambda2,mu1_prev,mu2_prev,sigma1_prev,sigma2_prev,lambda1_prev,lambda2_prev)\n",
    "    s2=sgma2_calculator(data,size,mu1,sigma1,mu2,sigma2,lambda1,lambda2,mu1_prev,mu2_prev,sigma1_prev,sigma2_prev,lambda1_prev,lambda2_prev)\n",
    "    mu1_prev=mu1\n",
    "    mu2_prev=mu2\n",
    "    mu1=value1\n",
    "    mu2=value2\n",
    "    sigma1_prev=sigma1\n",
    "    sigma2_prev=sigma2\n",
    "    sigma1=s1\n",
    "    sigma2=s2\n",
    "    lambda1_prev=lambda1\n",
    "    lambda2_prev=lambda2\n",
    "    lambda1=t1\n",
    "    lambda2=t2\n",
    "    prob0=prob1\n",
    "    for i in range(0,size):\n",
    "      prob1[i]=class_cond_dens(data[i],mu1,mu2,sigma1,sigma2,lambda1,lambda2)\n",
    "\n",
    "    error=prob1-prob0\n",
    "    MAE=np.mean(abs(error))\n",
    "\n",
    "\n",
    "\n",
    "  return mu1,mu2,sigma1,sigma2,lambda1,lambda2\n",
    "\n",
    "\n"
   ]
  },
  {
   "cell_type": "code",
   "execution_count": null,
   "metadata": {
    "id": "dxawQ27yriuZ"
   },
   "outputs": [],
   "source": [
    "mu1_cls1,mu2_cls1,sigma1_cls1,sigma2_cls1,lambda1_cls1,lambda2_cls1=ccd_calculator(x1,n1,mu1,sigma1,mu2,sigma2,lambda1,lambda2,mu1_prev,mu2_prev,sigma1_prev,sigma2_prev,lambda1_prev,lambda2_prev)\n",
    "mu1_cls2,mu2_cls2,sigma1_cls2,sigma2_cls2,lambda1_cls2,lambda2_cls2=ccd_calculator(x2,n2,mu1,sigma1,mu2,sigma2,lambda1,lambda2,mu1_prev,mu2_prev,sigma1_prev,sigma2_prev,lambda1_prev,lambda2_prev)\n",
    "mu1_cls3,mu2_cls3,sigma1_cls3,sigma2_cls3,lambda1_cls3,lambda2_cls3=ccd_calculator(x3,n3,mu1,sigma1,mu2,sigma2,lambda1,lambda2,mu1_prev,mu2_prev,sigma1_prev,sigma2_prev,lambda1_prev,lambda2_prev)\n",
    "mu1_cls4,mu2_cls4,sigma1_cls4,sigma2_cls4,lambda1_cls4,lambda2_cls4=ccd_calculator(x4,n4,mu1,sigma1,mu2,sigma2,lambda1,lambda2,mu1_prev,mu2_prev,sigma1_prev,sigma2_prev,lambda1_prev,lambda2_prev)\n",
    "mu1_cls5,mu2_cls5,sigma1_cls5,sigma2_cls5,lambda1_cls5,lambda2_cls5=ccd_calculator(x5,n5,mu1,sigma1,mu2,sigma2,lambda1,lambda2,mu1_prev,mu2_prev,sigma1_prev,sigma2_prev,lambda1_prev,lambda2_prev)"
   ]
  },
  {
   "cell_type": "code",
   "execution_count": null,
   "metadata": {
    "id": "pg6S81xCQ9Xx"
   },
   "outputs": [],
   "source": [
    "sigma1_cls1"
   ]
  },
  {
   "cell_type": "code",
   "execution_count": null,
   "metadata": {
    "id": "NA9ts9k9X_s3"
   },
   "outputs": [],
   "source": [
    "# def class_cond_dens(xi,mu1,mu2,sigma1,sigma2,lambda1,lambda2):\n",
    "#   value=lambda1*density(mu1,sigma1,xi)+lambda2*density(mu2,sigma2,xi)\n",
    "#   return value"
   ]
  },
  {
   "cell_type": "code",
   "execution_count": null,
   "metadata": {
    "id": "iKprZ5FicmRp"
   },
   "outputs": [],
   "source": [
    "uploaded1 = files.upload()"
   ]
  },
  {
   "cell_type": "code",
   "execution_count": null,
   "metadata": {
    "id": "9ukAKBDtcqc2"
   },
   "outputs": [],
   "source": [
    "# Get the uploaded file name\n",
    "file_name1 = next(iter(uploaded1))\n",
    "\n",
    "# Load the CSV file using NumPy\n",
    "data_test = np.genfromtxt(file_name1, delimiter=',')"
   ]
  },
  {
   "cell_type": "code",
   "execution_count": null,
   "metadata": {
    "id": "ni1IsRCec1_9"
   },
   "outputs": [],
   "source": [
    "X_test=np.zeros((15000,10))\n",
    "for i in range(0,15000):\n",
    "  for j in range(0,10):\n",
    "    X_test[i][j]=data_test[i][j]"
   ]
  },
  {
   "cell_type": "code",
   "execution_count": null,
   "metadata": {
    "id": "lXJSbx6Jc8fs"
   },
   "outputs": [],
   "source": [
    "def density_train(x,size,mu1,mu2,sigma1,sigma2,lambda1,lambda2):\n",
    "  vec=np.zeros((size,1))\n",
    "  for i in range(0,size):\n",
    "    vec[i]=class_cond_dens(x[i],mu1,mu2,sigma1,sigma2,lambda1,lambda2)\n",
    "  return vec\n"
   ]
  },
  {
   "cell_type": "code",
   "execution_count": null,
   "metadata": {
    "id": "fPZ2Ha0weOnP"
   },
   "outputs": [],
   "source": [
    "vec1=density_train(data_train,15000,mu1_cls1,mu2_cls1,sigma1_cls1,sigma2_cls1,lambda1_cls1,lambda2_cls1)\n",
    "vec2=density_train(data_train,15000,mu1_cls2,mu2_cls2,sigma1_cls2,sigma2_cls2,lambda1_cls2,lambda2_cls2)\n",
    "vec3=density_train(data_train,15000,mu1_cls3,mu2_cls3,sigma1_cls3,sigma2_cls3,lambda1_cls3,lambda2_cls3)\n",
    "vec4=density_train(data_train,15000,mu1_cls4,mu2_cls4,sigma1_cls4,sigma2_cls4,lambda1_cls4,lambda2_cls4)\n",
    "vec5=density_train(data_train,15000,mu1_cls5,mu2_cls5,sigma1_cls5,sigma2_cls5,lambda1_cls5,lambda2_cls5)"
   ]
  },
  {
   "cell_type": "code",
   "execution_count": null,
   "metadata": {
    "id": "lAo49DQ8flCc"
   },
   "outputs": [],
   "source": [
    "vec5"
   ]
  },
  {
   "cell_type": "code",
   "execution_count": null,
   "metadata": {
    "id": "1jP9iO-ufMte"
   },
   "outputs": [],
   "source": [
    "post=np.column_stack((vec1,vec2,vec3,vec4,vec5))"
   ]
  },
  {
   "cell_type": "code",
   "execution_count": null,
   "metadata": {
    "id": "AhhJMIESfhZo"
   },
   "outputs": [],
   "source": [
    "post"
   ]
  },
  {
   "cell_type": "code",
   "execution_count": null,
   "metadata": {
    "id": "zaAcV9hzfpPw"
   },
   "outputs": [],
   "source": [
    "def classifier1(post,p1,p2,p3,p4,p5):\n",
    "  cls=np.zeros((15000,1))\n",
    "  a=np.zeros((5,1))\n",
    "  for i in range(0,15000):\n",
    "    a[0]=p1*post[i][0]\n",
    "    a[1]=p2*post[i][1]\n",
    "    a[2]=p3*post[i][2]\n",
    "    a[3]=p4*post[i][3]\n",
    "    a[4]=p5*post[i][4]\n",
    "    cls[i]=np.argmax(a)+1\n",
    "    a=np.zeros((5,1))\n",
    "  return cls"
   ]
  },
  {
   "cell_type": "code",
   "execution_count": null,
   "metadata": {
    "id": "j9jAiDi_gGcX"
   },
   "outputs": [],
   "source": [
    "cls1=classifier1(post,p1,p2,p3,p4,p5)"
   ]
  },
  {
   "cell_type": "code",
   "execution_count": null,
   "metadata": {
    "id": "CzADw-TTgKkJ"
   },
   "outputs": [],
   "source": [
    "y_test=np.zeros((15000,1))\n",
    "for i in range(0,15000):\n",
    "  y_test[i]=data_test[i][10]\n"
   ]
  },
  {
   "cell_type": "code",
   "execution_count": null,
   "metadata": {
    "id": "Lqjun-rJgyH0"
   },
   "outputs": [],
   "source": [
    "def accuracy(arr1,arr2):\n",
    "  count=0\n",
    "  for i in range(0,15000):\n",
    "    if arr1[i]-arr2[i]==0:\n",
    "      count=count+1\n",
    "  return count/15000"
   ]
  },
  {
   "cell_type": "code",
   "execution_count": null,
   "metadata": {
    "id": "GsAwEuuWg1LI"
   },
   "outputs": [],
   "source": [
    "accuracy=accuracy(y_test,cls1)"
   ]
  },
  {
   "cell_type": "code",
   "execution_count": null,
   "metadata": {
    "id": "p84k0RFbg4eb"
   },
   "outputs": [],
   "source": [
    "accuracy"
   ]
  },
  {
   "cell_type": "code",
   "execution_count": null,
   "metadata": {
    "id": "d_UtV7Ybg6Ew"
   },
   "outputs": [],
   "source": []
  }
 ],
 "metadata": {
  "colab": {
   "provenance": []
  },
  "kernelspec": {
   "display_name": "Python 3 (ipykernel)",
   "language": "python",
   "name": "python3"
  },
  "language_info": {
   "codemirror_mode": {
    "name": "ipython",
    "version": 3
   },
   "file_extension": ".py",
   "mimetype": "text/x-python",
   "name": "python",
   "nbconvert_exporter": "python",
   "pygments_lexer": "ipython3",
   "version": "3.8.10"
  }
 },
 "nbformat": 4,
 "nbformat_minor": 1
}
