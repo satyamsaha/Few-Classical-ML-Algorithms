{
  "nbformat": 4,
  "nbformat_minor": 0,
  "metadata": {
    "colab": {
      "provenance": []
    },
    "kernelspec": {
      "name": "python3",
      "display_name": "Python 3"
    },
    "language_info": {
      "name": "python"
    }
  },
  "cells": [
    {
      "cell_type": "code",
      "execution_count": 1,
      "metadata": {
        "id": "2i91-DV3J8jR"
      },
      "outputs": [],
      "source": [
        "import numpy as np\n",
        "from google.colab import files"
      ]
    },
    {
      "cell_type": "code",
      "source": [
        "uploaded = files.upload()"
      ],
      "metadata": {
        "colab": {
          "base_uri": "https://localhost:8080/",
          "height": 73
        },
        "id": "e7ihtvCxKRDv",
        "outputId": "d330a771-40a2-4531-9e2e-848f0bf2bd8e"
      },
      "execution_count": 2,
      "outputs": [
        {
          "output_type": "display_data",
          "data": {
            "text/plain": [
              "<IPython.core.display.HTML object>"
            ],
            "text/html": [
              "\n",
              "     <input type=\"file\" id=\"files-b5b2ddc2-0e64-4ab8-9382-74d4bbb42b4d\" name=\"files[]\" multiple disabled\n",
              "        style=\"border:none\" />\n",
              "     <output id=\"result-b5b2ddc2-0e64-4ab8-9382-74d4bbb42b4d\">\n",
              "      Upload widget is only available when the cell has been executed in the\n",
              "      current browser session. Please rerun this cell to enable.\n",
              "      </output>\n",
              "      <script>// Copyright 2017 Google LLC\n",
              "//\n",
              "// Licensed under the Apache License, Version 2.0 (the \"License\");\n",
              "// you may not use this file except in compliance with the License.\n",
              "// You may obtain a copy of the License at\n",
              "//\n",
              "//      http://www.apache.org/licenses/LICENSE-2.0\n",
              "//\n",
              "// Unless required by applicable law or agreed to in writing, software\n",
              "// distributed under the License is distributed on an \"AS IS\" BASIS,\n",
              "// WITHOUT WARRANTIES OR CONDITIONS OF ANY KIND, either express or implied.\n",
              "// See the License for the specific language governing permissions and\n",
              "// limitations under the License.\n",
              "\n",
              "/**\n",
              " * @fileoverview Helpers for google.colab Python module.\n",
              " */\n",
              "(function(scope) {\n",
              "function span(text, styleAttributes = {}) {\n",
              "  const element = document.createElement('span');\n",
              "  element.textContent = text;\n",
              "  for (const key of Object.keys(styleAttributes)) {\n",
              "    element.style[key] = styleAttributes[key];\n",
              "  }\n",
              "  return element;\n",
              "}\n",
              "\n",
              "// Max number of bytes which will be uploaded at a time.\n",
              "const MAX_PAYLOAD_SIZE = 100 * 1024;\n",
              "\n",
              "function _uploadFiles(inputId, outputId) {\n",
              "  const steps = uploadFilesStep(inputId, outputId);\n",
              "  const outputElement = document.getElementById(outputId);\n",
              "  // Cache steps on the outputElement to make it available for the next call\n",
              "  // to uploadFilesContinue from Python.\n",
              "  outputElement.steps = steps;\n",
              "\n",
              "  return _uploadFilesContinue(outputId);\n",
              "}\n",
              "\n",
              "// This is roughly an async generator (not supported in the browser yet),\n",
              "// where there are multiple asynchronous steps and the Python side is going\n",
              "// to poll for completion of each step.\n",
              "// This uses a Promise to block the python side on completion of each step,\n",
              "// then passes the result of the previous step as the input to the next step.\n",
              "function _uploadFilesContinue(outputId) {\n",
              "  const outputElement = document.getElementById(outputId);\n",
              "  const steps = outputElement.steps;\n",
              "\n",
              "  const next = steps.next(outputElement.lastPromiseValue);\n",
              "  return Promise.resolve(next.value.promise).then((value) => {\n",
              "    // Cache the last promise value to make it available to the next\n",
              "    // step of the generator.\n",
              "    outputElement.lastPromiseValue = value;\n",
              "    return next.value.response;\n",
              "  });\n",
              "}\n",
              "\n",
              "/**\n",
              " * Generator function which is called between each async step of the upload\n",
              " * process.\n",
              " * @param {string} inputId Element ID of the input file picker element.\n",
              " * @param {string} outputId Element ID of the output display.\n",
              " * @return {!Iterable<!Object>} Iterable of next steps.\n",
              " */\n",
              "function* uploadFilesStep(inputId, outputId) {\n",
              "  const inputElement = document.getElementById(inputId);\n",
              "  inputElement.disabled = false;\n",
              "\n",
              "  const outputElement = document.getElementById(outputId);\n",
              "  outputElement.innerHTML = '';\n",
              "\n",
              "  const pickedPromise = new Promise((resolve) => {\n",
              "    inputElement.addEventListener('change', (e) => {\n",
              "      resolve(e.target.files);\n",
              "    });\n",
              "  });\n",
              "\n",
              "  const cancel = document.createElement('button');\n",
              "  inputElement.parentElement.appendChild(cancel);\n",
              "  cancel.textContent = 'Cancel upload';\n",
              "  const cancelPromise = new Promise((resolve) => {\n",
              "    cancel.onclick = () => {\n",
              "      resolve(null);\n",
              "    };\n",
              "  });\n",
              "\n",
              "  // Wait for the user to pick the files.\n",
              "  const files = yield {\n",
              "    promise: Promise.race([pickedPromise, cancelPromise]),\n",
              "    response: {\n",
              "      action: 'starting',\n",
              "    }\n",
              "  };\n",
              "\n",
              "  cancel.remove();\n",
              "\n",
              "  // Disable the input element since further picks are not allowed.\n",
              "  inputElement.disabled = true;\n",
              "\n",
              "  if (!files) {\n",
              "    return {\n",
              "      response: {\n",
              "        action: 'complete',\n",
              "      }\n",
              "    };\n",
              "  }\n",
              "\n",
              "  for (const file of files) {\n",
              "    const li = document.createElement('li');\n",
              "    li.append(span(file.name, {fontWeight: 'bold'}));\n",
              "    li.append(span(\n",
              "        `(${file.type || 'n/a'}) - ${file.size} bytes, ` +\n",
              "        `last modified: ${\n",
              "            file.lastModifiedDate ? file.lastModifiedDate.toLocaleDateString() :\n",
              "                                    'n/a'} - `));\n",
              "    const percent = span('0% done');\n",
              "    li.appendChild(percent);\n",
              "\n",
              "    outputElement.appendChild(li);\n",
              "\n",
              "    const fileDataPromise = new Promise((resolve) => {\n",
              "      const reader = new FileReader();\n",
              "      reader.onload = (e) => {\n",
              "        resolve(e.target.result);\n",
              "      };\n",
              "      reader.readAsArrayBuffer(file);\n",
              "    });\n",
              "    // Wait for the data to be ready.\n",
              "    let fileData = yield {\n",
              "      promise: fileDataPromise,\n",
              "      response: {\n",
              "        action: 'continue',\n",
              "      }\n",
              "    };\n",
              "\n",
              "    // Use a chunked sending to avoid message size limits. See b/62115660.\n",
              "    let position = 0;\n",
              "    do {\n",
              "      const length = Math.min(fileData.byteLength - position, MAX_PAYLOAD_SIZE);\n",
              "      const chunk = new Uint8Array(fileData, position, length);\n",
              "      position += length;\n",
              "\n",
              "      const base64 = btoa(String.fromCharCode.apply(null, chunk));\n",
              "      yield {\n",
              "        response: {\n",
              "          action: 'append',\n",
              "          file: file.name,\n",
              "          data: base64,\n",
              "        },\n",
              "      };\n",
              "\n",
              "      let percentDone = fileData.byteLength === 0 ?\n",
              "          100 :\n",
              "          Math.round((position / fileData.byteLength) * 100);\n",
              "      percent.textContent = `${percentDone}% done`;\n",
              "\n",
              "    } while (position < fileData.byteLength);\n",
              "  }\n",
              "\n",
              "  // All done.\n",
              "  yield {\n",
              "    response: {\n",
              "      action: 'complete',\n",
              "    }\n",
              "  };\n",
              "}\n",
              "\n",
              "scope.google = scope.google || {};\n",
              "scope.google.colab = scope.google.colab || {};\n",
              "scope.google.colab._files = {\n",
              "  _uploadFiles,\n",
              "  _uploadFilesContinue,\n",
              "};\n",
              "})(self);\n",
              "</script> "
            ]
          },
          "metadata": {}
        },
        {
          "output_type": "stream",
          "name": "stdout",
          "text": [
            "Saving p3_train.csv to p3_train.csv\n"
          ]
        }
      ]
    },
    {
      "cell_type": "code",
      "source": [
        "# Get the uploaded file name\n",
        "file_name = next(iter(uploaded))\n",
        "\n",
        "# Load the CSV file using NumPy\n",
        "data_train = np.genfromtxt(file_name, delimiter=',')"
      ],
      "metadata": {
        "id": "Ze4MSn9XKSAy"
      },
      "execution_count": 3,
      "outputs": []
    },
    {
      "cell_type": "code",
      "source": [
        "data_train"
      ],
      "metadata": {
        "colab": {
          "base_uri": "https://localhost:8080/"
        },
        "id": "9d1H5a5vLp8W",
        "outputId": "9cd320b1-0862-4d17-e7fa-72fa157405b8"
      },
      "execution_count": 4,
      "outputs": [
        {
          "output_type": "execute_result",
          "data": {
            "text/plain": [
              "array([[-0.66524016, -1.44494482, -0.50279241, ..., -0.51264941,\n",
              "         1.14855255,  1.        ],\n",
              "       [ 2.77439505,  1.60670577,  0.55340908, ..., -0.3560387 ,\n",
              "         0.67794381,  1.        ],\n",
              "       [-0.62586937, -0.26507389,  0.70141731, ...,  0.10409147,\n",
              "        -0.98485438,  5.        ],\n",
              "       ...,\n",
              "       [-1.7652821 , -0.13820513, -2.05887396, ..., -0.16761556,\n",
              "         1.92810659,  5.        ],\n",
              "       [ 1.31672603,  0.29958778,  0.40964062, ..., -0.50250074,\n",
              "        -0.77139579,  2.        ],\n",
              "       [ 0.41895968,  1.06039492, -1.1435325 , ...,  1.16254537,\n",
              "         0.12443366,  4.        ]])"
            ]
          },
          "metadata": {},
          "execution_count": 4
        }
      ]
    },
    {
      "cell_type": "code",
      "source": [
        "np.shape(data_train)"
      ],
      "metadata": {
        "colab": {
          "base_uri": "https://localhost:8080/"
        },
        "id": "paqylWdGLXoG",
        "outputId": "b1b464dc-03d6-4f65-ccb1-64e6a3daa354"
      },
      "execution_count": 5,
      "outputs": [
        {
          "output_type": "execute_result",
          "data": {
            "text/plain": [
              "(60000, 11)"
            ]
          },
          "metadata": {},
          "execution_count": 5
        }
      ]
    },
    {
      "cell_type": "code",
      "source": [
        "n1=0\n",
        "n2=0\n",
        "n3=0\n",
        "n4=0\n",
        "n5=0\n",
        "for i in range(0,60000):\n",
        "  if data_train[i][10]==1:\n",
        "    n1=n1+1\n",
        "  if data_train[i][10]==2:\n",
        "    n2=n2+1\n",
        "  if data_train[i][10]==3:\n",
        "    n3=n3+1\n",
        "  if data_train[i][10]==4:\n",
        "    n4=n4+1\n",
        "  if data_train[i][10]==5:\n",
        "    n5=n5+1\n"
      ],
      "metadata": {
        "id": "ta7TQX-XKti8"
      },
      "execution_count": 6,
      "outputs": []
    },
    {
      "cell_type": "code",
      "source": [
        "n1"
      ],
      "metadata": {
        "colab": {
          "base_uri": "https://localhost:8080/"
        },
        "id": "1LK5yCm477WN",
        "outputId": "035693eb-d887-4712-c31c-ecd4e4425dc8"
      },
      "execution_count": 7,
      "outputs": [
        {
          "output_type": "execute_result",
          "data": {
            "text/plain": [
              "12029"
            ]
          },
          "metadata": {},
          "execution_count": 7
        }
      ]
    },
    {
      "cell_type": "code",
      "source": [
        "p1=n1/60000\n",
        "p2=n2/60000\n",
        "p3=n3/60000\n",
        "p4=n4/60000\n",
        "p5=n5/60000"
      ],
      "metadata": {
        "id": "_1VIxWxaMDgQ"
      },
      "execution_count": 8,
      "outputs": []
    },
    {
      "cell_type": "code",
      "source": [
        "p1"
      ],
      "metadata": {
        "colab": {
          "base_uri": "https://localhost:8080/"
        },
        "id": "dNcA86jiMEoh",
        "outputId": "a66b3c18-7760-49b5-f2cd-74224b9005e5"
      },
      "execution_count": 9,
      "outputs": [
        {
          "output_type": "execute_result",
          "data": {
            "text/plain": [
              "0.20048333333333335"
            ]
          },
          "metadata": {},
          "execution_count": 9
        }
      ]
    },
    {
      "cell_type": "code",
      "source": [
        "x1=np.zeros((n1,10))\n",
        "x2=np.zeros((n2,10))\n",
        "x3=np.zeros((n3,10))\n",
        "x4=np.zeros((n4,10))\n",
        "x5=np.zeros((n5,10))"
      ],
      "metadata": {
        "id": "VuezAx9h1_Ln"
      },
      "execution_count": 10,
      "outputs": []
    },
    {
      "cell_type": "code",
      "source": [
        "np.shape(x1)"
      ],
      "metadata": {
        "colab": {
          "base_uri": "https://localhost:8080/"
        },
        "id": "aB-v6tmH49p0",
        "outputId": "503607f7-bbbb-4996-e796-eca533f500f8"
      },
      "execution_count": 11,
      "outputs": [
        {
          "output_type": "execute_result",
          "data": {
            "text/plain": [
              "(12029, 10)"
            ]
          },
          "metadata": {},
          "execution_count": 11
        }
      ]
    },
    {
      "cell_type": "code",
      "source": [
        "k1=0\n",
        "k2=0\n",
        "k3=0\n",
        "k4=0\n",
        "k5=0\n",
        "\n",
        "for i in range(0,60000):\n",
        "    if data_train[i][10]==1:\n",
        "      for j in range(0,10):\n",
        "        x1[k1][j]=data_train[i][j]\n",
        "      k1=k1+1\n",
        "    elif data_train[i][10]==2:\n",
        "      for j in range(0,10):\n",
        "        x2[k2][j]=data_train[i][j]\n",
        "      k2=k2+1\n",
        "    elif data_train[i][10]==3:\n",
        "      for j in range(0,10):\n",
        "        x3[k3][j]=data_train[i][j]\n",
        "      k3=k3+1\n",
        "    elif data_train[i][10]==4:\n",
        "      for j in range(0,10):\n",
        "        x4[k4][j]=data_train[i][j]\n",
        "      k4=k4+1\n",
        "    elif data_train[i][10]==5:\n",
        "      for j in range(0,10):\n",
        "        x5[k5][j]=data_train[i][j]\n",
        "      k5=k5+1"
      ],
      "metadata": {
        "id": "V49LbC6d2Xxt"
      },
      "execution_count": 12,
      "outputs": []
    },
    {
      "cell_type": "code",
      "source": [
        "x1"
      ],
      "metadata": {
        "colab": {
          "base_uri": "https://localhost:8080/"
        },
        "id": "jvnvtWEl9KMX",
        "outputId": "163ef28e-bf38-4432-ca32-825fd37444bf"
      },
      "execution_count": 13,
      "outputs": [
        {
          "output_type": "execute_result",
          "data": {
            "text/plain": [
              "array([[-0.66524016, -1.44494482, -0.50279241, ..., -0.43669382,\n",
              "        -0.51264941,  1.14855255],\n",
              "       [ 2.77439505,  1.60670577,  0.55340908, ...,  1.85333769,\n",
              "        -0.3560387 ,  0.67794381],\n",
              "       [-0.51502036,  0.19890526,  0.54183173, ..., -0.72564118,\n",
              "         0.25187396, -0.43100653],\n",
              "       ...,\n",
              "       [-1.20204078, -0.51212793, -0.76522766, ...,  0.65873833,\n",
              "        -2.02105334, -0.19591757],\n",
              "       [-0.54578945,  0.84513346, -0.69664901, ...,  1.40517791,\n",
              "        -0.07249937,  0.23566335],\n",
              "       [-1.46128873, -0.91149415, -0.18040443, ...,  0.77853778,\n",
              "        -0.13012596, -0.94027375]])"
            ]
          },
          "metadata": {},
          "execution_count": 13
        }
      ]
    },
    {
      "cell_type": "code",
      "source": [
        "def MU(arr,size):\n",
        "  mu=np.zeros((10,1))\n",
        "  for i in range(0,size):\n",
        "    for j in range(0,10):\n",
        "      mu[j]=mu[j]+arr[i][j]\n",
        "  return mu/size"
      ],
      "metadata": {
        "id": "aI1mTg7NMjKT"
      },
      "execution_count": 14,
      "outputs": []
    },
    {
      "cell_type": "code",
      "source": [
        "mu1=MU(x1,n1)\n",
        "mu2=MU(x2,n2)\n",
        "mu3=MU(x3,n3)\n",
        "mu4=MU(x4,n4)\n",
        "mu5=MU(x5,n5)"
      ],
      "metadata": {
        "id": "6Sgwn__ZonPw"
      },
      "execution_count": 15,
      "outputs": []
    },
    {
      "cell_type": "code",
      "source": [
        "mu1"
      ],
      "metadata": {
        "colab": {
          "base_uri": "https://localhost:8080/"
        },
        "id": "THndL6LFoooH",
        "outputId": "4b510d8a-ecb9-4a08-eb38-8f07e0a19ae2"
      },
      "execution_count": 16,
      "outputs": [
        {
          "output_type": "execute_result",
          "data": {
            "text/plain": [
              "array([[ 2.02703067e-01],\n",
              "       [ 1.20997361e+00],\n",
              "       [ 1.81973642e-02],\n",
              "       [-9.25991531e-03],\n",
              "       [ 3.11968850e-04],\n",
              "       [ 6.19575501e-03],\n",
              "       [ 1.64881781e-03],\n",
              "       [ 1.04556667e-02],\n",
              "       [ 2.91771113e-03],\n",
              "       [ 2.12628967e-02]])"
            ]
          },
          "metadata": {},
          "execution_count": 16
        }
      ]
    },
    {
      "cell_type": "code",
      "source": [
        "def sgma(arr,size,mu):\n",
        "  sigma=np.zeros((10,10))\n",
        "  diff=np.zeros((10,1))\n",
        "  for i in range(0,size):\n",
        "    for j in range(0,10):\n",
        "      diff[j]=(arr[i][j]-mu[j])\n",
        "    sigma=sigma+(diff@(diff.T))\n",
        "    diff=np.zeros((10,1))\n",
        "  return sigma/size"
      ],
      "metadata": {
        "id": "cPjSwqFxpyfa"
      },
      "execution_count": 34,
      "outputs": []
    },
    {
      "cell_type": "code",
      "source": [
        "sigma1=sgma(x1,n1,mu1)\n",
        "sigma2=sgma(x2,n2,mu2)\n",
        "sigma3=sgma(x3,n3,mu3)\n",
        "sigma4=sgma(x4,n4,mu4)\n",
        "sigma5=sgma(x5,n5,mu5)\n"
      ],
      "metadata": {
        "id": "0raLIAE3-yS4"
      },
      "execution_count": 35,
      "outputs": []
    },
    {
      "cell_type": "code",
      "source": [
        "sigma1"
      ],
      "metadata": {
        "colab": {
          "base_uri": "https://localhost:8080/"
        },
        "id": "BZGS21NP-5ux",
        "outputId": "34d553d7-21af-4cfc-8bdb-7a3fb4e5dad6"
      },
      "execution_count": 19,
      "outputs": [
        {
          "output_type": "execute_result",
          "data": {
            "text/plain": [
              "array([[ 2.36759500e+00,  1.18392879e+00, -1.28365482e-02,\n",
              "         6.66536575e-03, -2.06539424e-02, -2.95117943e-02,\n",
              "         4.17361850e-03, -1.98253263e-03, -1.87639371e-02,\n",
              "        -1.50809643e-02],\n",
              "       [ 1.18392879e+00,  2.39667879e+00, -1.06127541e-02,\n",
              "        -7.15520071e-03, -6.45529295e-03, -1.45744219e-02,\n",
              "         7.47295583e-03, -2.28001268e-02, -3.79157763e-02,\n",
              "        -2.63615188e-02],\n",
              "       [-1.28365482e-02, -1.06127541e-02,  1.21735548e+00,\n",
              "         2.75304221e-02,  1.47021593e-02,  7.16665253e-04,\n",
              "        -3.59319606e-03,  2.04760937e-02, -5.03535472e-03,\n",
              "        -8.64859712e-03],\n",
              "       [ 6.66536575e-03, -7.15520071e-03,  2.75304221e-02,\n",
              "         1.19307209e+00,  8.18518196e-03,  2.77391344e-03,\n",
              "        -1.28294556e-02,  5.76193872e-03,  5.15781495e-03,\n",
              "        -9.30218287e-03],\n",
              "       [-2.06539424e-02, -6.45529295e-03,  1.47021593e-02,\n",
              "         8.18518196e-03,  1.17053694e+00,  7.22069400e-03,\n",
              "         5.32630759e-03, -1.39356723e-02, -6.12251159e-03,\n",
              "        -4.39582407e-03],\n",
              "       [-2.95117943e-02, -1.45744219e-02,  7.16665253e-04,\n",
              "         2.77391344e-03,  7.22069400e-03,  1.19410778e+00,\n",
              "        -2.57373286e-02, -7.65366136e-03, -9.24066125e-03,\n",
              "        -1.19115083e-02],\n",
              "       [ 4.17361850e-03,  7.47295583e-03, -3.59319606e-03,\n",
              "        -1.28294556e-02,  5.32630759e-03, -2.57373286e-02,\n",
              "         1.20290607e+00,  1.28097844e-02, -1.94832366e-02,\n",
              "         9.08909147e-03],\n",
              "       [-1.98253263e-03, -2.28001268e-02,  2.04760937e-02,\n",
              "         5.76193872e-03, -1.39356723e-02, -7.65366136e-03,\n",
              "         1.28097844e-02,  1.18813304e+00, -3.42552366e-03,\n",
              "         6.30103418e-03],\n",
              "       [-1.87639371e-02, -3.79157763e-02, -5.03535472e-03,\n",
              "         5.15781495e-03, -6.12251159e-03, -9.24066125e-03,\n",
              "        -1.94832366e-02, -3.42552366e-03,  1.17398878e+00,\n",
              "         4.78795088e-03],\n",
              "       [-1.50809643e-02, -2.63615188e-02, -8.64859712e-03,\n",
              "        -9.30218287e-03, -4.39582407e-03, -1.19115083e-02,\n",
              "         9.08909147e-03,  6.30103418e-03,  4.78795088e-03,\n",
              "         1.18994891e+00]])"
            ]
          },
          "metadata": {},
          "execution_count": 19
        }
      ]
    },
    {
      "cell_type": "code",
      "source": [
        "lambda1=np.linalg.inv(sigma1)\n",
        "lambda2=np.linalg.inv(sigma2)\n",
        "lambda3=np.linalg.inv(sigma3)\n",
        "lambda4=np.linalg.inv(sigma4)\n",
        "lambda5=np.linalg.inv(sigma5)\n"
      ],
      "metadata": {
        "id": "MAg-gol_BYPb"
      },
      "execution_count": 36,
      "outputs": []
    },
    {
      "cell_type": "code",
      "source": [
        "np.linalg.det(np.linalg.inv(lambda1))"
      ],
      "metadata": {
        "colab": {
          "base_uri": "https://localhost:8080/"
        },
        "id": "TxPYHVmYFvBe",
        "outputId": "8264d535-ec35-47d0-aa8c-f462faf7715f"
      },
      "execution_count": 21,
      "outputs": [
        {
          "output_type": "execute_result",
          "data": {
            "text/plain": [
              "17.243836831315935"
            ]
          },
          "metadata": {},
          "execution_count": 21
        }
      ]
    },
    {
      "cell_type": "code",
      "source": [
        "import math"
      ],
      "metadata": {
        "id": "WH_oPT-yEnx6"
      },
      "execution_count": 22,
      "outputs": []
    },
    {
      "cell_type": "code",
      "source": [
        "math.pi"
      ],
      "metadata": {
        "colab": {
          "base_uri": "https://localhost:8080/"
        },
        "id": "UuWbyq8OE2gR",
        "outputId": "5d890567-4512-489f-aeef-c99f02f0fa06"
      },
      "execution_count": 23,
      "outputs": [
        {
          "output_type": "execute_result",
          "data": {
            "text/plain": [
              "3.141592653589793"
            ]
          },
          "metadata": {},
          "execution_count": 23
        }
      ]
    },
    {
      "cell_type": "code",
      "source": [
        "def class_density(mu,Lambda,data):\n",
        "  diff=np.zeros((10,1))\n",
        "  for i in range(0,10):\n",
        "    diff[i]=data[i]-mu[i]\n",
        "  e=-0.5*((diff.T)@Lambda@diff)\n",
        "  evalue=math.exp(e)\n",
        "  sigma=np.linalg.inv(Lambda)\n",
        "  #value=1/(((2*(math.pi))**5)*math.sqrt(np.linalg.det(sigma)))\n",
        "  det=math.sqrt(np.linalg.det(sigma))\n",
        "  value=(2*math.pi)**5\n",
        "  return evalue/(det*value)"
      ],
      "metadata": {
        "id": "tEwmdKY-CsjT"
      },
      "execution_count": 24,
      "outputs": []
    },
    {
      "cell_type": "code",
      "source": [
        "uploaded1 = files.upload()"
      ],
      "metadata": {
        "colab": {
          "base_uri": "https://localhost:8080/",
          "height": 73
        },
        "id": "gRGf-KshxOBv",
        "outputId": "89ed5e5a-eb25-4899-d518-f2cb9d88e2c1"
      },
      "execution_count": 25,
      "outputs": [
        {
          "output_type": "display_data",
          "data": {
            "text/plain": [
              "<IPython.core.display.HTML object>"
            ],
            "text/html": [
              "\n",
              "     <input type=\"file\" id=\"files-f2ba1314-381a-4eda-92bb-1d434b2fc981\" name=\"files[]\" multiple disabled\n",
              "        style=\"border:none\" />\n",
              "     <output id=\"result-f2ba1314-381a-4eda-92bb-1d434b2fc981\">\n",
              "      Upload widget is only available when the cell has been executed in the\n",
              "      current browser session. Please rerun this cell to enable.\n",
              "      </output>\n",
              "      <script>// Copyright 2017 Google LLC\n",
              "//\n",
              "// Licensed under the Apache License, Version 2.0 (the \"License\");\n",
              "// you may not use this file except in compliance with the License.\n",
              "// You may obtain a copy of the License at\n",
              "//\n",
              "//      http://www.apache.org/licenses/LICENSE-2.0\n",
              "//\n",
              "// Unless required by applicable law or agreed to in writing, software\n",
              "// distributed under the License is distributed on an \"AS IS\" BASIS,\n",
              "// WITHOUT WARRANTIES OR CONDITIONS OF ANY KIND, either express or implied.\n",
              "// See the License for the specific language governing permissions and\n",
              "// limitations under the License.\n",
              "\n",
              "/**\n",
              " * @fileoverview Helpers for google.colab Python module.\n",
              " */\n",
              "(function(scope) {\n",
              "function span(text, styleAttributes = {}) {\n",
              "  const element = document.createElement('span');\n",
              "  element.textContent = text;\n",
              "  for (const key of Object.keys(styleAttributes)) {\n",
              "    element.style[key] = styleAttributes[key];\n",
              "  }\n",
              "  return element;\n",
              "}\n",
              "\n",
              "// Max number of bytes which will be uploaded at a time.\n",
              "const MAX_PAYLOAD_SIZE = 100 * 1024;\n",
              "\n",
              "function _uploadFiles(inputId, outputId) {\n",
              "  const steps = uploadFilesStep(inputId, outputId);\n",
              "  const outputElement = document.getElementById(outputId);\n",
              "  // Cache steps on the outputElement to make it available for the next call\n",
              "  // to uploadFilesContinue from Python.\n",
              "  outputElement.steps = steps;\n",
              "\n",
              "  return _uploadFilesContinue(outputId);\n",
              "}\n",
              "\n",
              "// This is roughly an async generator (not supported in the browser yet),\n",
              "// where there are multiple asynchronous steps and the Python side is going\n",
              "// to poll for completion of each step.\n",
              "// This uses a Promise to block the python side on completion of each step,\n",
              "// then passes the result of the previous step as the input to the next step.\n",
              "function _uploadFilesContinue(outputId) {\n",
              "  const outputElement = document.getElementById(outputId);\n",
              "  const steps = outputElement.steps;\n",
              "\n",
              "  const next = steps.next(outputElement.lastPromiseValue);\n",
              "  return Promise.resolve(next.value.promise).then((value) => {\n",
              "    // Cache the last promise value to make it available to the next\n",
              "    // step of the generator.\n",
              "    outputElement.lastPromiseValue = value;\n",
              "    return next.value.response;\n",
              "  });\n",
              "}\n",
              "\n",
              "/**\n",
              " * Generator function which is called between each async step of the upload\n",
              " * process.\n",
              " * @param {string} inputId Element ID of the input file picker element.\n",
              " * @param {string} outputId Element ID of the output display.\n",
              " * @return {!Iterable<!Object>} Iterable of next steps.\n",
              " */\n",
              "function* uploadFilesStep(inputId, outputId) {\n",
              "  const inputElement = document.getElementById(inputId);\n",
              "  inputElement.disabled = false;\n",
              "\n",
              "  const outputElement = document.getElementById(outputId);\n",
              "  outputElement.innerHTML = '';\n",
              "\n",
              "  const pickedPromise = new Promise((resolve) => {\n",
              "    inputElement.addEventListener('change', (e) => {\n",
              "      resolve(e.target.files);\n",
              "    });\n",
              "  });\n",
              "\n",
              "  const cancel = document.createElement('button');\n",
              "  inputElement.parentElement.appendChild(cancel);\n",
              "  cancel.textContent = 'Cancel upload';\n",
              "  const cancelPromise = new Promise((resolve) => {\n",
              "    cancel.onclick = () => {\n",
              "      resolve(null);\n",
              "    };\n",
              "  });\n",
              "\n",
              "  // Wait for the user to pick the files.\n",
              "  const files = yield {\n",
              "    promise: Promise.race([pickedPromise, cancelPromise]),\n",
              "    response: {\n",
              "      action: 'starting',\n",
              "    }\n",
              "  };\n",
              "\n",
              "  cancel.remove();\n",
              "\n",
              "  // Disable the input element since further picks are not allowed.\n",
              "  inputElement.disabled = true;\n",
              "\n",
              "  if (!files) {\n",
              "    return {\n",
              "      response: {\n",
              "        action: 'complete',\n",
              "      }\n",
              "    };\n",
              "  }\n",
              "\n",
              "  for (const file of files) {\n",
              "    const li = document.createElement('li');\n",
              "    li.append(span(file.name, {fontWeight: 'bold'}));\n",
              "    li.append(span(\n",
              "        `(${file.type || 'n/a'}) - ${file.size} bytes, ` +\n",
              "        `last modified: ${\n",
              "            file.lastModifiedDate ? file.lastModifiedDate.toLocaleDateString() :\n",
              "                                    'n/a'} - `));\n",
              "    const percent = span('0% done');\n",
              "    li.appendChild(percent);\n",
              "\n",
              "    outputElement.appendChild(li);\n",
              "\n",
              "    const fileDataPromise = new Promise((resolve) => {\n",
              "      const reader = new FileReader();\n",
              "      reader.onload = (e) => {\n",
              "        resolve(e.target.result);\n",
              "      };\n",
              "      reader.readAsArrayBuffer(file);\n",
              "    });\n",
              "    // Wait for the data to be ready.\n",
              "    let fileData = yield {\n",
              "      promise: fileDataPromise,\n",
              "      response: {\n",
              "        action: 'continue',\n",
              "      }\n",
              "    };\n",
              "\n",
              "    // Use a chunked sending to avoid message size limits. See b/62115660.\n",
              "    let position = 0;\n",
              "    do {\n",
              "      const length = Math.min(fileData.byteLength - position, MAX_PAYLOAD_SIZE);\n",
              "      const chunk = new Uint8Array(fileData, position, length);\n",
              "      position += length;\n",
              "\n",
              "      const base64 = btoa(String.fromCharCode.apply(null, chunk));\n",
              "      yield {\n",
              "        response: {\n",
              "          action: 'append',\n",
              "          file: file.name,\n",
              "          data: base64,\n",
              "        },\n",
              "      };\n",
              "\n",
              "      let percentDone = fileData.byteLength === 0 ?\n",
              "          100 :\n",
              "          Math.round((position / fileData.byteLength) * 100);\n",
              "      percent.textContent = `${percentDone}% done`;\n",
              "\n",
              "    } while (position < fileData.byteLength);\n",
              "  }\n",
              "\n",
              "  // All done.\n",
              "  yield {\n",
              "    response: {\n",
              "      action: 'complete',\n",
              "    }\n",
              "  };\n",
              "}\n",
              "\n",
              "scope.google = scope.google || {};\n",
              "scope.google.colab = scope.google.colab || {};\n",
              "scope.google.colab._files = {\n",
              "  _uploadFiles,\n",
              "  _uploadFilesContinue,\n",
              "};\n",
              "})(self);\n",
              "</script> "
            ]
          },
          "metadata": {}
        },
        {
          "output_type": "stream",
          "name": "stdout",
          "text": [
            "Saving p3_test.csv to p3_test.csv\n"
          ]
        }
      ]
    },
    {
      "cell_type": "code",
      "source": [
        "# Get the uploaded file name\n",
        "file_name1 = next(iter(uploaded1))\n",
        "\n",
        "# Load the CSV file using NumPy\n",
        "data_test = np.genfromtxt(file_name1, delimiter=',')"
      ],
      "metadata": {
        "id": "pa4SMuqUx58n"
      },
      "execution_count": 26,
      "outputs": []
    },
    {
      "cell_type": "code",
      "source": [
        "np.shape(data_test)"
      ],
      "metadata": {
        "colab": {
          "base_uri": "https://localhost:8080/"
        },
        "id": "mDxopHh5TLHk",
        "outputId": "d4866eba-8d10-4524-fa27-b86faff48219"
      },
      "execution_count": 27,
      "outputs": [
        {
          "output_type": "execute_result",
          "data": {
            "text/plain": [
              "(15000, 11)"
            ]
          },
          "metadata": {},
          "execution_count": 27
        }
      ]
    },
    {
      "cell_type": "code",
      "source": [],
      "metadata": {
        "id": "0vFqXlcPyFml"
      },
      "execution_count": 27,
      "outputs": []
    },
    {
      "cell_type": "code",
      "source": [
        "data_train[0]"
      ],
      "metadata": {
        "colab": {
          "base_uri": "https://localhost:8080/"
        },
        "id": "hUMUjkYVyPPC",
        "outputId": "3c8cfde5-b462-4e07-f91b-c3087018a90a"
      },
      "execution_count": 28,
      "outputs": [
        {
          "output_type": "execute_result",
          "data": {
            "text/plain": [
              "array([-0.66524016, -1.44494482, -0.50279241, -1.12577976, -0.45391642,\n",
              "       -0.25270986, -0.82476845, -0.43669382, -0.51264941,  1.14855255,\n",
              "        1.        ])"
            ]
          },
          "metadata": {},
          "execution_count": 28
        }
      ]
    },
    {
      "cell_type": "code",
      "source": [
        "def density_calculator(data,m,mu1,mu2,mu3,mu4,mu5,lambda1,lambda2,lambda3,lambda4,lambda5):\n",
        "  post=np.zeros((m,5))\n",
        "  for i in range(0,m):\n",
        "      post[i][0]=class_density(mu1,lambda1,data[i])\n",
        "      post[i][1]=class_density(mu2,lambda2,data[i])\n",
        "      post[i][2]=class_density(mu3,lambda3,data[i])\n",
        "      post[i][3]=class_density(mu4,lambda4,data[i])\n",
        "      post[i][4]=class_density(mu5,lambda5,data[i])\n",
        "  return post"
      ],
      "metadata": {
        "id": "bmT6o4RvyU_u"
      },
      "execution_count": 70,
      "outputs": []
    },
    {
      "cell_type": "code",
      "source": [
        "X_test=np.zeros((15000,10))\n",
        "for i in range(0,15000):\n",
        "  for j in range(0,10):\n",
        "    X_test[i][j]=data_test[i][j]"
      ],
      "metadata": {
        "id": "DP7nQZRB0V7C"
      },
      "execution_count": 71,
      "outputs": []
    },
    {
      "cell_type": "code",
      "source": [
        "post=density_calculator(X_test,15000,mu1,mu2,mu3,mu4,mu5,lambda1,lambda2,lambda3,lambda4,lambda5)"
      ],
      "metadata": {
        "id": "mrLR3Rb-TEWJ"
      },
      "execution_count": 72,
      "outputs": []
    },
    {
      "cell_type": "code",
      "source": [
        "post"
      ],
      "metadata": {
        "colab": {
          "base_uri": "https://localhost:8080/"
        },
        "id": "BkkSDn2XT3GH",
        "outputId": "fbb0496d-aa65-420b-a8b3-a886897cd5b3"
      },
      "execution_count": 73,
      "outputs": [
        {
          "output_type": "execute_result",
          "data": {
            "text/plain": [
              "array([[2.03048698e-08, 7.26261268e-08, 2.09094937e-08, 1.10238659e-06,\n",
              "        1.52289710e-08],\n",
              "       [8.24667942e-08, 4.56596999e-07, 6.00194773e-08, 1.32491323e-07,\n",
              "        2.27490160e-06],\n",
              "       [2.31689940e-08, 2.83825542e-07, 1.45968060e-07, 1.18087516e-07,\n",
              "        5.90679209e-08],\n",
              "       ...,\n",
              "       [5.88820015e-10, 2.78495266e-10, 5.67092089e-09, 6.64974954e-08,\n",
              "        4.51294909e-10],\n",
              "       [1.21438047e-07, 2.07088686e-07, 2.91786924e-07, 1.71177084e-07,\n",
              "        3.34487372e-08],\n",
              "       [3.36717990e-07, 7.96841962e-08, 2.17023264e-08, 1.03036844e-07,\n",
              "        1.25075264e-07]])"
            ]
          },
          "metadata": {},
          "execution_count": 73
        }
      ]
    },
    {
      "cell_type": "code",
      "source": [
        "np.shape(post)"
      ],
      "metadata": {
        "colab": {
          "base_uri": "https://localhost:8080/"
        },
        "id": "fauSK9KE_FW-",
        "outputId": "fa87cac1-f133-42a2-853e-dc6c3cfa6712"
      },
      "execution_count": 37,
      "outputs": [
        {
          "output_type": "execute_result",
          "data": {
            "text/plain": [
              "(15000, 5)"
            ]
          },
          "metadata": {},
          "execution_count": 37
        }
      ]
    },
    {
      "cell_type": "markdown",
      "source": [],
      "metadata": {
        "id": "342Ay9Q-Ipvn"
      }
    },
    {
      "cell_type": "code",
      "source": [
        "def classifier1(post,p1,p2,p3,p4,p5):\n",
        "  cls=np.zeros((15000,1))\n",
        "  a=np.zeros((5,1))\n",
        "  for i in range(0,15000):\n",
        "    a[0]=p1*post[i][0]\n",
        "    a[1]=p2*post[i][1]\n",
        "    a[2]=p3*post[i][2]\n",
        "    a[3]=p4*post[i][3]\n",
        "    a[4]=p5*post[i][4]\n",
        "    cls[i]=np.argmax(a)+1\n",
        "    a=np.zeros((5,1))\n",
        "  return cls"
      ],
      "metadata": {
        "id": "yufJK7vzIcHD"
      },
      "execution_count": 74,
      "outputs": []
    },
    {
      "cell_type": "code",
      "source": [
        "cls1=classifier1(post,p1,p2,p3,p4,p5)"
      ],
      "metadata": {
        "id": "M2hhu5WhKYEp"
      },
      "execution_count": 75,
      "outputs": []
    },
    {
      "cell_type": "code",
      "source": [
        "data_test"
      ],
      "metadata": {
        "colab": {
          "base_uri": "https://localhost:8080/"
        },
        "id": "DRTzq_msCKjh",
        "outputId": "49a1da12-0e1a-4f63-dddd-97d2af2134fa"
      },
      "execution_count": 76,
      "outputs": [
        {
          "output_type": "execute_result",
          "data": {
            "text/plain": [
              "array([[-0.36155998, -0.07137044,  0.32634803, ...,  0.12132694,\n",
              "        -0.21378723,  2.        ],\n",
              "       [ 0.87320572, -0.68542094, -1.0513115 , ...,  1.43991457,\n",
              "         2.04474109,  1.        ],\n",
              "       [ 0.9848795 , -1.44588972, -0.35913845, ..., -0.8675261 ,\n",
              "        -1.21703136,  5.        ],\n",
              "       ...,\n",
              "       [ 0.28527298,  1.00770785, -0.31063534, ..., -0.36555153,\n",
              "         0.71625022,  4.        ],\n",
              "       [-1.05595651, -0.14687865, -0.47438609, ..., -0.10981379,\n",
              "        -1.84707061,  2.        ],\n",
              "       [-0.84914776,  2.09934799, -1.33686243, ..., -0.48751575,\n",
              "         1.25954515,  1.        ]])"
            ]
          },
          "metadata": {},
          "execution_count": 76
        }
      ]
    },
    {
      "cell_type": "code",
      "source": [
        "y_test=np.zeros((15000,1))\n",
        "for i in range(0,15000):\n",
        "  y_test[i]=data_test[i][10]\n",
        "\n"
      ],
      "metadata": {
        "id": "j3bOUXE1ErfT"
      },
      "execution_count": 77,
      "outputs": []
    },
    {
      "cell_type": "code",
      "source": [
        "def accuracy(arr1,arr2):\n",
        "  count=0\n",
        "  for i in range(0,15000):\n",
        "    if arr1[i]-arr2[i]==0:\n",
        "      count=count+1\n",
        "  return count/15000\n"
      ],
      "metadata": {
        "id": "Hj1Ez3MgCR-X"
      },
      "execution_count": 78,
      "outputs": []
    },
    {
      "cell_type": "code",
      "source": [
        "accuracy=accuracy(y_test,cls1)"
      ],
      "metadata": {
        "id": "-OKajcIEFXMf"
      },
      "execution_count": 82,
      "outputs": []
    },
    {
      "cell_type": "code",
      "source": [
        "accuracy"
      ],
      "metadata": {
        "colab": {
          "base_uri": "https://localhost:8080/"
        },
        "id": "q65bIO9bFgaS",
        "outputId": "62b3516f-8e69-423f-e9bc-0205af4b0ea4"
      },
      "execution_count": 83,
      "outputs": [
        {
          "output_type": "execute_result",
          "data": {
            "text/plain": [
              "0.5938666666666667"
            ]
          },
          "metadata": {},
          "execution_count": 83
        }
      ]
    },
    {
      "cell_type": "code",
      "source": [],
      "metadata": {
        "id": "Ca7qO2NvFhQJ"
      },
      "execution_count": null,
      "outputs": []
    }
  ]
}